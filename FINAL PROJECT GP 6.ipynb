{
 "cells": [
  {
   "cell_type": "markdown",
   "id": "c5e4ae33-4a15-445a-9a55-0e017fdc79c0",
   "metadata": {
    "tags": []
   },
   "source": [
    "# Final Project Group 6"
   ]
  },
  {
   "cell_type": "markdown",
   "id": "85a405f3-e617-43e7-8dc0-f596c554eb14",
   "metadata": {},
   "source": [
    " - Group Name : Hemapython\n",
    " - Batch      : 18\n",
    " - Member     : Alya, Ariq, Lewis, Tidar, Jordy, Yushinta, Fauzan, Hafidz"
   ]
  },
  {
   "cell_type": "code",
   "execution_count": 1,
   "id": "2503f85e-015f-4525-b47c-ebfafbbbcbfa",
   "metadata": {},
   "outputs": [],
   "source": [
    "# import library\n",
    "import numpy as np\n",
    "import pandas as pd\n",
    "import matplotlib.pyplot as plt\n",
    "import seaborn as sns\n",
    "from scipy import stats"
   ]
  },
  {
   "cell_type": "code",
   "execution_count": 2,
   "id": "d7e1a801-55db-4e6c-aa94-6299fe58b8fe",
   "metadata": {},
   "outputs": [],
   "source": [
    "#  Mengubah parameter default matplotlib\n",
    "#  Parameter default matplotlib dapat diubah dengan rcParams sebagai berikut\n",
    "\n",
    "from matplotlib import rcParams\n",
    "\n",
    "rcParams['figure.figsize'] = 12, 4\n",
    "rcParams['lines.linewidth'] = 3\n",
    "rcParams['xtick.labelsize'] = 'x-large'\n",
    "rcParams['ytick.labelsize'] = 'x-large'"
   ]
  },
  {
   "cell_type": "markdown",
   "id": "d3198e19-ecf8-44d1-a982-30d8b3c9a8b2",
   "metadata": {},
   "source": [
    "## Load Dataset"
   ]
  },
  {
   "cell_type": "code",
   "execution_count": 3,
   "id": "60506601-8b3b-45ae-9e6c-bf807497a14d",
   "metadata": {},
   "outputs": [
    {
     "data": {
      "text/html": [
       "<div>\n",
       "<style scoped>\n",
       "    .dataframe tbody tr th:only-of-type {\n",
       "        vertical-align: middle;\n",
       "    }\n",
       "\n",
       "    .dataframe tbody tr th {\n",
       "        vertical-align: top;\n",
       "    }\n",
       "\n",
       "    .dataframe thead th {\n",
       "        text-align: right;\n",
       "    }\n",
       "</style>\n",
       "<table border=\"1\" class=\"dataframe\">\n",
       "  <thead>\n",
       "    <tr style=\"text-align: right;\">\n",
       "      <th></th>\n",
       "      <th>Unnamed: 0</th>\n",
       "      <th>Age</th>\n",
       "      <th>Employment Type</th>\n",
       "      <th>GraduateOrNot</th>\n",
       "      <th>AnnualIncome</th>\n",
       "      <th>FamilyMembers</th>\n",
       "      <th>ChronicDiseases</th>\n",
       "      <th>FrequentFlyer</th>\n",
       "      <th>EverTravelledAbroad</th>\n",
       "      <th>TravelInsurance</th>\n",
       "    </tr>\n",
       "  </thead>\n",
       "  <tbody>\n",
       "    <tr>\n",
       "      <th>0</th>\n",
       "      <td>0</td>\n",
       "      <td>31</td>\n",
       "      <td>Government Sector</td>\n",
       "      <td>Yes</td>\n",
       "      <td>400000</td>\n",
       "      <td>6</td>\n",
       "      <td>1</td>\n",
       "      <td>No</td>\n",
       "      <td>No</td>\n",
       "      <td>0</td>\n",
       "    </tr>\n",
       "    <tr>\n",
       "      <th>1</th>\n",
       "      <td>1</td>\n",
       "      <td>31</td>\n",
       "      <td>Private Sector/Self Employed</td>\n",
       "      <td>Yes</td>\n",
       "      <td>1250000</td>\n",
       "      <td>7</td>\n",
       "      <td>0</td>\n",
       "      <td>No</td>\n",
       "      <td>No</td>\n",
       "      <td>0</td>\n",
       "    </tr>\n",
       "    <tr>\n",
       "      <th>2</th>\n",
       "      <td>2</td>\n",
       "      <td>34</td>\n",
       "      <td>Private Sector/Self Employed</td>\n",
       "      <td>Yes</td>\n",
       "      <td>500000</td>\n",
       "      <td>4</td>\n",
       "      <td>1</td>\n",
       "      <td>No</td>\n",
       "      <td>No</td>\n",
       "      <td>1</td>\n",
       "    </tr>\n",
       "  </tbody>\n",
       "</table>\n",
       "</div>"
      ],
      "text/plain": [
       "   Unnamed: 0  Age               Employment Type GraduateOrNot  AnnualIncome  \\\n",
       "0           0   31             Government Sector           Yes        400000   \n",
       "1           1   31  Private Sector/Self Employed           Yes       1250000   \n",
       "2           2   34  Private Sector/Self Employed           Yes        500000   \n",
       "\n",
       "   FamilyMembers  ChronicDiseases FrequentFlyer EverTravelledAbroad  \\\n",
       "0              6                1            No                  No   \n",
       "1              7                0            No                  No   \n",
       "2              4                1            No                  No   \n",
       "\n",
       "   TravelInsurance  \n",
       "0                0  \n",
       "1                0  \n",
       "2                1  "
      ]
     },
     "execution_count": 3,
     "metadata": {},
     "output_type": "execute_result"
    }
   ],
   "source": [
    "df = pd.read_csv('TravelInsurancePrediction.csv')\n",
    "df.head(3)"
   ]
  },
  {
   "cell_type": "markdown",
   "id": "2a16fdd9-9622-4232-937b-d8a41f75e373",
   "metadata": {},
   "source": [
    "# Desriptive Statistics"
   ]
  },
  {
   "cell_type": "markdown",
   "id": "d36b9a41-3808-47ef-a5c0-2a872fb8a87c",
   "metadata": {},
   "source": [
    "Gunakan function info dan describe pada dataset final project kalian."
   ]
  },
  {
   "cell_type": "code",
   "execution_count": 4,
   "id": "4cb8fcaf-a25e-4180-bda3-683845cba4f0",
   "metadata": {},
   "outputs": [
    {
     "name": "stdout",
     "output_type": "stream",
     "text": [
      "<class 'pandas.core.frame.DataFrame'>\n",
      "RangeIndex: 1987 entries, 0 to 1986\n",
      "Data columns (total 10 columns):\n",
      " #   Column               Non-Null Count  Dtype \n",
      "---  ------               --------------  ----- \n",
      " 0   Unnamed: 0           1987 non-null   int64 \n",
      " 1   Age                  1987 non-null   int64 \n",
      " 2   Employment Type      1987 non-null   object\n",
      " 3   GraduateOrNot        1987 non-null   object\n",
      " 4   AnnualIncome         1987 non-null   int64 \n",
      " 5   FamilyMembers        1987 non-null   int64 \n",
      " 6   ChronicDiseases      1987 non-null   int64 \n",
      " 7   FrequentFlyer        1987 non-null   object\n",
      " 8   EverTravelledAbroad  1987 non-null   object\n",
      " 9   TravelInsurance      1987 non-null   int64 \n",
      "dtypes: int64(6), object(4)\n",
      "memory usage: 155.4+ KB\n"
     ]
    }
   ],
   "source": [
    "df.info()"
   ]
  },
  {
   "cell_type": "code",
   "execution_count": 5,
   "id": "9b3a86ad-d38a-4c40-8baa-1da943d30d68",
   "metadata": {},
   "outputs": [
    {
     "data": {
      "text/html": [
       "<div>\n",
       "<style scoped>\n",
       "    .dataframe tbody tr th:only-of-type {\n",
       "        vertical-align: middle;\n",
       "    }\n",
       "\n",
       "    .dataframe tbody tr th {\n",
       "        vertical-align: top;\n",
       "    }\n",
       "\n",
       "    .dataframe thead th {\n",
       "        text-align: right;\n",
       "    }\n",
       "</style>\n",
       "<table border=\"1\" class=\"dataframe\">\n",
       "  <thead>\n",
       "    <tr style=\"text-align: right;\">\n",
       "      <th></th>\n",
       "      <th>Unnamed: 0</th>\n",
       "      <th>Age</th>\n",
       "      <th>AnnualIncome</th>\n",
       "      <th>FamilyMembers</th>\n",
       "      <th>ChronicDiseases</th>\n",
       "      <th>TravelInsurance</th>\n",
       "    </tr>\n",
       "  </thead>\n",
       "  <tbody>\n",
       "    <tr>\n",
       "      <th>count</th>\n",
       "      <td>1987.000000</td>\n",
       "      <td>1987.000000</td>\n",
       "      <td>1.987000e+03</td>\n",
       "      <td>1987.000000</td>\n",
       "      <td>1987.000000</td>\n",
       "      <td>1987.000000</td>\n",
       "    </tr>\n",
       "    <tr>\n",
       "      <th>mean</th>\n",
       "      <td>993.000000</td>\n",
       "      <td>29.650226</td>\n",
       "      <td>9.327630e+05</td>\n",
       "      <td>4.752894</td>\n",
       "      <td>0.277806</td>\n",
       "      <td>0.357323</td>\n",
       "    </tr>\n",
       "    <tr>\n",
       "      <th>std</th>\n",
       "      <td>573.741812</td>\n",
       "      <td>2.913308</td>\n",
       "      <td>3.768557e+05</td>\n",
       "      <td>1.609650</td>\n",
       "      <td>0.448030</td>\n",
       "      <td>0.479332</td>\n",
       "    </tr>\n",
       "    <tr>\n",
       "      <th>min</th>\n",
       "      <td>0.000000</td>\n",
       "      <td>25.000000</td>\n",
       "      <td>3.000000e+05</td>\n",
       "      <td>2.000000</td>\n",
       "      <td>0.000000</td>\n",
       "      <td>0.000000</td>\n",
       "    </tr>\n",
       "    <tr>\n",
       "      <th>25%</th>\n",
       "      <td>496.500000</td>\n",
       "      <td>28.000000</td>\n",
       "      <td>6.000000e+05</td>\n",
       "      <td>4.000000</td>\n",
       "      <td>0.000000</td>\n",
       "      <td>0.000000</td>\n",
       "    </tr>\n",
       "    <tr>\n",
       "      <th>50%</th>\n",
       "      <td>993.000000</td>\n",
       "      <td>29.000000</td>\n",
       "      <td>9.000000e+05</td>\n",
       "      <td>5.000000</td>\n",
       "      <td>0.000000</td>\n",
       "      <td>0.000000</td>\n",
       "    </tr>\n",
       "    <tr>\n",
       "      <th>75%</th>\n",
       "      <td>1489.500000</td>\n",
       "      <td>32.000000</td>\n",
       "      <td>1.250000e+06</td>\n",
       "      <td>6.000000</td>\n",
       "      <td>1.000000</td>\n",
       "      <td>1.000000</td>\n",
       "    </tr>\n",
       "    <tr>\n",
       "      <th>max</th>\n",
       "      <td>1986.000000</td>\n",
       "      <td>35.000000</td>\n",
       "      <td>1.800000e+06</td>\n",
       "      <td>9.000000</td>\n",
       "      <td>1.000000</td>\n",
       "      <td>1.000000</td>\n",
       "    </tr>\n",
       "  </tbody>\n",
       "</table>\n",
       "</div>"
      ],
      "text/plain": [
       "        Unnamed: 0          Age  AnnualIncome  FamilyMembers  ChronicDiseases  \\\n",
       "count  1987.000000  1987.000000  1.987000e+03    1987.000000      1987.000000   \n",
       "mean    993.000000    29.650226  9.327630e+05       4.752894         0.277806   \n",
       "std     573.741812     2.913308  3.768557e+05       1.609650         0.448030   \n",
       "min       0.000000    25.000000  3.000000e+05       2.000000         0.000000   \n",
       "25%     496.500000    28.000000  6.000000e+05       4.000000         0.000000   \n",
       "50%     993.000000    29.000000  9.000000e+05       5.000000         0.000000   \n",
       "75%    1489.500000    32.000000  1.250000e+06       6.000000         1.000000   \n",
       "max    1986.000000    35.000000  1.800000e+06       9.000000         1.000000   \n",
       "\n",
       "       TravelInsurance  \n",
       "count      1987.000000  \n",
       "mean          0.357323  \n",
       "std           0.479332  \n",
       "min           0.000000  \n",
       "25%           0.000000  \n",
       "50%           0.000000  \n",
       "75%           1.000000  \n",
       "max           1.000000  "
      ]
     },
     "execution_count": 5,
     "metadata": {},
     "output_type": "execute_result"
    }
   ],
   "source": [
    "df.describe()"
   ]
  },
  {
   "cell_type": "markdown",
   "id": "67edc3dd-2c81-4607-a0cf-cb3945dbb2a1",
   "metadata": {},
   "source": [
    "## Apakah ada kolom dengan tipe data kurang sesuai, atau nama kolom dan isinya kurang sesuai?"
   ]
  },
  {
   "cell_type": "markdown",
   "id": "c6b84c1b-14e8-4739-bf58-951029092f85",
   "metadata": {},
   "source": [
    "- Dari df.info() terlihat bahwa terdapat kolom 'Unnamed: 0' yang merupakan repetisi dari index, sehingga dapat dilakukan drop untuk menghilangkan kolom tersebut.\n",
    "- 'Employment Type' bisa diubah menjadi 'EmploymentType' jika ingin menyamakan dengan yang lain (tanpa spasi)\n",
    "- Beberapa kolom perlu di label encoding"
   ]
  },
  {
   "cell_type": "markdown",
   "id": "da655589-8c21-4227-8ea4-3772d3508d47",
   "metadata": {},
   "source": [
    "## Apakah ada kolom yang memiliki nilai kosong?\n",
    "- Dilihat dari hasil df.info dan juga df.isna().sum() terlihat bahwa data tidak memiliki nilai kosong\n",
    "- Dilihat dari unique values, semua unique values memiliki value dan tidak ada ' ' sebagai value\n",
    "- Data terdiri dari 1987 baris, tidak ada yang bermasalah dalam kasus ini\n"
   ]
  },
  {
   "cell_type": "code",
   "execution_count": 6,
   "id": "c385705a-0407-4e43-85d3-4dd98a6114d4",
   "metadata": {},
   "outputs": [
    {
     "data": {
      "text/plain": [
       "Unnamed: 0             0\n",
       "Age                    0\n",
       "Employment Type        0\n",
       "GraduateOrNot          0\n",
       "AnnualIncome           0\n",
       "FamilyMembers          0\n",
       "ChronicDiseases        0\n",
       "FrequentFlyer          0\n",
       "EverTravelledAbroad    0\n",
       "TravelInsurance        0\n",
       "dtype: int64"
      ]
     },
     "execution_count": 6,
     "metadata": {},
     "output_type": "execute_result"
    }
   ],
   "source": [
    "df.isna().sum()"
   ]
  },
  {
   "cell_type": "code",
   "execution_count": 7,
   "id": "cd580828-8eb6-4cfa-8df4-912254b42eac",
   "metadata": {},
   "outputs": [
    {
     "name": "stdout",
     "output_type": "stream",
     "text": [
      "Unnamed: 0 nilai kolom-kolom: [   0    1    2 ... 1984 1985 1986]\n",
      "Age nilai kolom-kolom: [31 34 28 25 33 26 32 29 35 30 27]\n",
      "Employment Type nilai kolom-kolom: ['Government Sector' 'Private Sector/Self Employed']\n",
      "GraduateOrNot nilai kolom-kolom: ['Yes' 'No']\n",
      "AnnualIncome nilai kolom-kolom: [ 400000 1250000  500000  700000 1150000 1300000 1350000 1450000  800000\n",
      " 1400000  850000 1500000 1050000  350000 1100000  600000  900000  550000\n",
      "  300000  750000 1200000 1000000  950000 1700000 1750000  650000  450000\n",
      " 1650000 1800000 1550000]\n",
      "FamilyMembers nilai kolom-kolom: [6 7 4 3 8 9 5 2]\n",
      "ChronicDiseases nilai kolom-kolom: [1 0]\n",
      "FrequentFlyer nilai kolom-kolom: ['No' 'Yes']\n",
      "EverTravelledAbroad nilai kolom-kolom: ['No' 'Yes']\n",
      "TravelInsurance nilai kolom-kolom: [0 1]\n"
     ]
    }
   ],
   "source": [
    "for i in df.columns:\n",
    "    print(i,\"nilai kolom-kolom:\",df[i].unique())"
   ]
  },
  {
   "cell_type": "markdown",
   "id": "ff537155-c2b4-441c-aab5-aeda55dd0341",
   "metadata": {},
   "source": [
    "## Apakah ada kolom yang memiliki nilai summary agak aneh?"
   ]
  },
  {
   "cell_type": "markdown",
   "id": "b27b2ecc-67b8-43d8-b663-d696fbdb1ab0",
   "metadata": {},
   "source": [
    "Numerical\n",
    "- Kolom **Age**, **AnnualIncome**, **FamilyMembers** terlihat sudah cukup simetrik karena nilai mean dan median tidak terlihat jauh\n",
    "- Untuk min/max semua sudah terlihat normal\n",
    "\n",
    "\n",
    "Category\n",
    "- Tidak ada keanehan dalam kolom-kolom ini, \n",
    "- data didominasi oleh pekerja sektor swasta/self employed, lulus, bukan frequent flyer, dan tidak pernah keluar negeri\n",
    "- data-data bersifat binner, sehingga bisa melakukan data transformation untuk menjadi "
   ]
  },
  {
   "cell_type": "code",
   "execution_count": 8,
   "id": "4cf138d4-b244-4709-9e4d-d3645ef2b2d8",
   "metadata": {},
   "outputs": [
    {
     "data": {
      "text/html": [
       "<div>\n",
       "<style scoped>\n",
       "    .dataframe tbody tr th:only-of-type {\n",
       "        vertical-align: middle;\n",
       "    }\n",
       "\n",
       "    .dataframe tbody tr th {\n",
       "        vertical-align: top;\n",
       "    }\n",
       "\n",
       "    .dataframe thead th {\n",
       "        text-align: right;\n",
       "    }\n",
       "</style>\n",
       "<table border=\"1\" class=\"dataframe\">\n",
       "  <thead>\n",
       "    <tr style=\"text-align: right;\">\n",
       "      <th></th>\n",
       "      <th>Unnamed: 0</th>\n",
       "      <th>Age</th>\n",
       "      <th>Employment Type</th>\n",
       "      <th>GraduateOrNot</th>\n",
       "      <th>AnnualIncome</th>\n",
       "      <th>FamilyMembers</th>\n",
       "      <th>ChronicDiseases</th>\n",
       "      <th>FrequentFlyer</th>\n",
       "      <th>EverTravelledAbroad</th>\n",
       "      <th>TravelInsurance</th>\n",
       "    </tr>\n",
       "  </thead>\n",
       "  <tbody>\n",
       "    <tr>\n",
       "      <th>134</th>\n",
       "      <td>134</td>\n",
       "      <td>28</td>\n",
       "      <td>Private Sector/Self Employed</td>\n",
       "      <td>Yes</td>\n",
       "      <td>600000</td>\n",
       "      <td>5</td>\n",
       "      <td>0</td>\n",
       "      <td>Yes</td>\n",
       "      <td>No</td>\n",
       "      <td>0</td>\n",
       "    </tr>\n",
       "    <tr>\n",
       "      <th>1397</th>\n",
       "      <td>1397</td>\n",
       "      <td>28</td>\n",
       "      <td>Private Sector/Self Employed</td>\n",
       "      <td>Yes</td>\n",
       "      <td>900000</td>\n",
       "      <td>9</td>\n",
       "      <td>1</td>\n",
       "      <td>No</td>\n",
       "      <td>Yes</td>\n",
       "      <td>0</td>\n",
       "    </tr>\n",
       "    <tr>\n",
       "      <th>1359</th>\n",
       "      <td>1359</td>\n",
       "      <td>32</td>\n",
       "      <td>Government Sector</td>\n",
       "      <td>Yes</td>\n",
       "      <td>850000</td>\n",
       "      <td>9</td>\n",
       "      <td>0</td>\n",
       "      <td>Yes</td>\n",
       "      <td>No</td>\n",
       "      <td>1</td>\n",
       "    </tr>\n",
       "    <tr>\n",
       "      <th>685</th>\n",
       "      <td>685</td>\n",
       "      <td>34</td>\n",
       "      <td>Private Sector/Self Employed</td>\n",
       "      <td>Yes</td>\n",
       "      <td>1500000</td>\n",
       "      <td>4</td>\n",
       "      <td>1</td>\n",
       "      <td>Yes</td>\n",
       "      <td>Yes</td>\n",
       "      <td>1</td>\n",
       "    </tr>\n",
       "    <tr>\n",
       "      <th>1514</th>\n",
       "      <td>1514</td>\n",
       "      <td>34</td>\n",
       "      <td>Private Sector/Self Employed</td>\n",
       "      <td>Yes</td>\n",
       "      <td>1000000</td>\n",
       "      <td>6</td>\n",
       "      <td>1</td>\n",
       "      <td>No</td>\n",
       "      <td>No</td>\n",
       "      <td>1</td>\n",
       "    </tr>\n",
       "  </tbody>\n",
       "</table>\n",
       "</div>"
      ],
      "text/plain": [
       "      Unnamed: 0  Age               Employment Type GraduateOrNot  \\\n",
       "134          134   28  Private Sector/Self Employed           Yes   \n",
       "1397        1397   28  Private Sector/Self Employed           Yes   \n",
       "1359        1359   32             Government Sector           Yes   \n",
       "685          685   34  Private Sector/Self Employed           Yes   \n",
       "1514        1514   34  Private Sector/Self Employed           Yes   \n",
       "\n",
       "      AnnualIncome  FamilyMembers  ChronicDiseases FrequentFlyer  \\\n",
       "134         600000              5                0           Yes   \n",
       "1397        900000              9                1            No   \n",
       "1359        850000              9                0           Yes   \n",
       "685        1500000              4                1           Yes   \n",
       "1514       1000000              6                1            No   \n",
       "\n",
       "     EverTravelledAbroad  TravelInsurance  \n",
       "134                   No                0  \n",
       "1397                 Yes                0  \n",
       "1359                  No                1  \n",
       "685                  Yes                1  \n",
       "1514                  No                1  "
      ]
     },
     "execution_count": 8,
     "metadata": {},
     "output_type": "execute_result"
    }
   ],
   "source": [
    "#Cuplikan data\n",
    "df.sample(5)"
   ]
  },
  {
   "cell_type": "markdown",
   "id": "a726ba96-fa4e-41be-b7ea-1e1048f53ee2",
   "metadata": {},
   "source": [
    "# Statistical Summary"
   ]
  },
  {
   "cell_type": "code",
   "execution_count": 9,
   "id": "df445f32-c9be-4161-bfd0-0e2e0e2e8a99",
   "metadata": {},
   "outputs": [],
   "source": [
    "nums = ['Age', 'AnnualIncome', 'FamilyMembers', 'ChronicDiseases', 'TravelInsurance']\n",
    "cats = ['Employment Type', 'GraduateOrNot', 'FrequentFlyer', 'EverTravelledAbroad']"
   ]
  },
  {
   "cell_type": "code",
   "execution_count": 10,
   "id": "3f818dc7-c181-4821-977e-65e37f0583db",
   "metadata": {},
   "outputs": [
    {
     "data": {
      "text/html": [
       "<div>\n",
       "<style scoped>\n",
       "    .dataframe tbody tr th:only-of-type {\n",
       "        vertical-align: middle;\n",
       "    }\n",
       "\n",
       "    .dataframe tbody tr th {\n",
       "        vertical-align: top;\n",
       "    }\n",
       "\n",
       "    .dataframe thead th {\n",
       "        text-align: right;\n",
       "    }\n",
       "</style>\n",
       "<table border=\"1\" class=\"dataframe\">\n",
       "  <thead>\n",
       "    <tr style=\"text-align: right;\">\n",
       "      <th></th>\n",
       "      <th>Age</th>\n",
       "      <th>AnnualIncome</th>\n",
       "      <th>FamilyMembers</th>\n",
       "      <th>ChronicDiseases</th>\n",
       "      <th>TravelInsurance</th>\n",
       "    </tr>\n",
       "  </thead>\n",
       "  <tbody>\n",
       "    <tr>\n",
       "      <th>count</th>\n",
       "      <td>1987.000000</td>\n",
       "      <td>1.987000e+03</td>\n",
       "      <td>1987.000000</td>\n",
       "      <td>1987.000000</td>\n",
       "      <td>1987.000000</td>\n",
       "    </tr>\n",
       "    <tr>\n",
       "      <th>mean</th>\n",
       "      <td>29.650226</td>\n",
       "      <td>9.327630e+05</td>\n",
       "      <td>4.752894</td>\n",
       "      <td>0.277806</td>\n",
       "      <td>0.357323</td>\n",
       "    </tr>\n",
       "    <tr>\n",
       "      <th>std</th>\n",
       "      <td>2.913308</td>\n",
       "      <td>3.768557e+05</td>\n",
       "      <td>1.609650</td>\n",
       "      <td>0.448030</td>\n",
       "      <td>0.479332</td>\n",
       "    </tr>\n",
       "    <tr>\n",
       "      <th>min</th>\n",
       "      <td>25.000000</td>\n",
       "      <td>3.000000e+05</td>\n",
       "      <td>2.000000</td>\n",
       "      <td>0.000000</td>\n",
       "      <td>0.000000</td>\n",
       "    </tr>\n",
       "    <tr>\n",
       "      <th>25%</th>\n",
       "      <td>28.000000</td>\n",
       "      <td>6.000000e+05</td>\n",
       "      <td>4.000000</td>\n",
       "      <td>0.000000</td>\n",
       "      <td>0.000000</td>\n",
       "    </tr>\n",
       "    <tr>\n",
       "      <th>50%</th>\n",
       "      <td>29.000000</td>\n",
       "      <td>9.000000e+05</td>\n",
       "      <td>5.000000</td>\n",
       "      <td>0.000000</td>\n",
       "      <td>0.000000</td>\n",
       "    </tr>\n",
       "    <tr>\n",
       "      <th>75%</th>\n",
       "      <td>32.000000</td>\n",
       "      <td>1.250000e+06</td>\n",
       "      <td>6.000000</td>\n",
       "      <td>1.000000</td>\n",
       "      <td>1.000000</td>\n",
       "    </tr>\n",
       "    <tr>\n",
       "      <th>max</th>\n",
       "      <td>35.000000</td>\n",
       "      <td>1.800000e+06</td>\n",
       "      <td>9.000000</td>\n",
       "      <td>1.000000</td>\n",
       "      <td>1.000000</td>\n",
       "    </tr>\n",
       "  </tbody>\n",
       "</table>\n",
       "</div>"
      ],
      "text/plain": [
       "               Age  AnnualIncome  FamilyMembers  ChronicDiseases  \\\n",
       "count  1987.000000  1.987000e+03    1987.000000      1987.000000   \n",
       "mean     29.650226  9.327630e+05       4.752894         0.277806   \n",
       "std       2.913308  3.768557e+05       1.609650         0.448030   \n",
       "min      25.000000  3.000000e+05       2.000000         0.000000   \n",
       "25%      28.000000  6.000000e+05       4.000000         0.000000   \n",
       "50%      29.000000  9.000000e+05       5.000000         0.000000   \n",
       "75%      32.000000  1.250000e+06       6.000000         1.000000   \n",
       "max      35.000000  1.800000e+06       9.000000         1.000000   \n",
       "\n",
       "       TravelInsurance  \n",
       "count      1987.000000  \n",
       "mean          0.357323  \n",
       "std           0.479332  \n",
       "min           0.000000  \n",
       "25%           0.000000  \n",
       "50%           0.000000  \n",
       "75%           1.000000  \n",
       "max           1.000000  "
      ]
     },
     "execution_count": 10,
     "metadata": {},
     "output_type": "execute_result"
    }
   ],
   "source": [
    "# ringkasan statistik dari kolom numerik\n",
    "df[nums].describe()"
   ]
  },
  {
   "cell_type": "code",
   "execution_count": 11,
   "id": "3cdd56c9-e403-4450-8923-0c2d0e2abad8",
   "metadata": {},
   "outputs": [
    {
     "data": {
      "text/html": [
       "<div>\n",
       "<style scoped>\n",
       "    .dataframe tbody tr th:only-of-type {\n",
       "        vertical-align: middle;\n",
       "    }\n",
       "\n",
       "    .dataframe tbody tr th {\n",
       "        vertical-align: top;\n",
       "    }\n",
       "\n",
       "    .dataframe thead th {\n",
       "        text-align: right;\n",
       "    }\n",
       "</style>\n",
       "<table border=\"1\" class=\"dataframe\">\n",
       "  <thead>\n",
       "    <tr style=\"text-align: right;\">\n",
       "      <th></th>\n",
       "      <th>Employment Type</th>\n",
       "      <th>GraduateOrNot</th>\n",
       "      <th>FrequentFlyer</th>\n",
       "      <th>EverTravelledAbroad</th>\n",
       "    </tr>\n",
       "  </thead>\n",
       "  <tbody>\n",
       "    <tr>\n",
       "      <th>count</th>\n",
       "      <td>1987</td>\n",
       "      <td>1987</td>\n",
       "      <td>1987</td>\n",
       "      <td>1987</td>\n",
       "    </tr>\n",
       "    <tr>\n",
       "      <th>unique</th>\n",
       "      <td>2</td>\n",
       "      <td>2</td>\n",
       "      <td>2</td>\n",
       "      <td>2</td>\n",
       "    </tr>\n",
       "    <tr>\n",
       "      <th>top</th>\n",
       "      <td>Private Sector/Self Employed</td>\n",
       "      <td>Yes</td>\n",
       "      <td>No</td>\n",
       "      <td>No</td>\n",
       "    </tr>\n",
       "    <tr>\n",
       "      <th>freq</th>\n",
       "      <td>1417</td>\n",
       "      <td>1692</td>\n",
       "      <td>1570</td>\n",
       "      <td>1607</td>\n",
       "    </tr>\n",
       "  </tbody>\n",
       "</table>\n",
       "</div>"
      ],
      "text/plain": [
       "                     Employment Type GraduateOrNot FrequentFlyer  \\\n",
       "count                           1987          1987          1987   \n",
       "unique                             2             2             2   \n",
       "top     Private Sector/Self Employed           Yes            No   \n",
       "freq                            1417          1692          1570   \n",
       "\n",
       "       EverTravelledAbroad  \n",
       "count                 1987  \n",
       "unique                   2  \n",
       "top                     No  \n",
       "freq                  1607  "
      ]
     },
     "execution_count": 11,
     "metadata": {},
     "output_type": "execute_result"
    }
   ],
   "source": [
    "df[cats].describe()"
   ]
  },
  {
   "cell_type": "code",
   "execution_count": 12,
   "id": "fb2562a4-cd9c-4a30-ace0-f0d5b5db3321",
   "metadata": {},
   "outputs": [
    {
     "name": "stdout",
     "output_type": "stream",
     "text": [
      "Value count kolom Employment Type:\n",
      "Private Sector/Self Employed    1417\n",
      "Government Sector                570\n",
      "Name: Employment Type, dtype: int64\n",
      "\n",
      "Value count kolom GraduateOrNot:\n",
      "Yes    1692\n",
      "No      295\n",
      "Name: GraduateOrNot, dtype: int64\n",
      "\n",
      "Value count kolom FrequentFlyer:\n",
      "No     1570\n",
      "Yes     417\n",
      "Name: FrequentFlyer, dtype: int64\n",
      "\n",
      "Value count kolom EverTravelledAbroad:\n",
      "No     1607\n",
      "Yes     380\n",
      "Name: EverTravelledAbroad, dtype: int64\n",
      "\n"
     ]
    }
   ],
   "source": [
    "for col in cats:\n",
    "    print(f'''Value count kolom {col}:''')\n",
    "    print(df[col].value_counts())\n",
    "    print()"
   ]
  },
  {
   "cell_type": "markdown",
   "id": "a92de757-8c23-4ca3-9d0b-6f4b0d5845a8",
   "metadata": {},
   "source": [
    "# Univariate Analysis"
   ]
  },
  {
   "cell_type": "markdown",
   "id": "13a23b82-b308-41b7-a136-fba32f223a20",
   "metadata": {},
   "source": [
    "Gunakan visualisasi untuk melihat distribusi masing-masing kolom (feature maupun\n",
    "target). Tuliskan hasil observasinya, misalnya jika ada suatu kolom yang distribusinya\n",
    "menarik (misal skewed, bimodal, ada outlier, ada nilai yang mendominasi, kategorinya\n",
    "terlalu banyak, dsb). Jelaskan juga apa yang harus di-follow up saat data pre-processing."
   ]
  },
  {
   "cell_type": "markdown",
   "id": "f94ab77f-a4c5-432c-aa6a-649337dcb991",
   "metadata": {},
   "source": [
    "## Box Plot"
   ]
  },
  {
   "cell_type": "code",
   "execution_count": 13,
   "id": "7af8f86e-956a-4240-95e4-5373c6f6c7e5",
   "metadata": {},
   "outputs": [
    {
     "data": {
      "image/png": "[encoded data removed]",
      "text/plain": [
       "<Figure size 864x288 with 5 Axes>"
      ]
     },
     "metadata": {
      "needs_background": "light"
     },
     "output_type": "display_data"
    }
   ],
   "source": [
    "features = nums\n",
    "for i in range(0, len(features)):\n",
    "    plt.subplot(1, len(features), i+1)\n",
    "    sns.boxplot(y=df[features[i]], color='turquoise', orient='v')\n",
    "    plt.tight_layout()"
   ]
  },
  {
   "cell_type": "markdown",
   "id": "c2da79a1-f1ce-4685-9b24-2678f287fc25",
   "metadata": {},
   "source": [
    "- Dilihat dari boxplot, tidak ada outlier dalam kolom age, annualincome, dan family members\n",
    "- Dari boxplot juga terlihat bahwa **Age** akan skewed ke kiri / positively skewed"
   ]
  },
  {
   "cell_type": "markdown",
   "id": "db08e065-c3e9-4c94-91a4-19a119600942",
   "metadata": {},
   "source": [
    "## Distribution Plot"
   ]
  },
  {
   "cell_type": "code",
   "execution_count": 14,
   "id": "e85418d4-d866-4a58-8f1f-594017aeb9f6",
   "metadata": {},
   "outputs": [
    {
     "data": {
      "image/png": "[encoded data removed]",
      "text/plain": [
       "<Figure size 864x360 with 5 Axes>"
      ]
     },
     "metadata": {
      "needs_background": "light"
     },
     "output_type": "display_data"
    }
   ],
   "source": [
    "features = nums\n",
    "plt.figure(figsize=(12, 5))\n",
    "for i in range(0, len(nums)):\n",
    "    plt.subplot(3,2, i+1)\n",
    "    sns.kdeplot(x=df[features[i]], color='green')\n",
    "    plt.xlabel(features[i])\n",
    "    plt.tight_layout()"
   ]
  },
  {
   "cell_type": "markdown",
   "id": "2c752eab-21eb-45cc-aac7-5b256645add9",
   "metadata": {},
   "source": [
    "## Violin Plot"
   ]
  },
  {
   "cell_type": "code",
   "execution_count": 15,
   "id": "74ee0a50-4a23-4c85-b5ea-78c78046f47e",
   "metadata": {},
   "outputs": [
    {
     "data": {
      "image/png": "[encoded data removed]",
      "text/plain": [
       "<Figure size 864x288 with 5 Axes>"
      ]
     },
     "metadata": {
      "needs_background": "light"
     },
     "output_type": "display_data"
    }
   ],
   "source": [
    "for i in range(0, len(nums)):\n",
    "    plt.subplot(1, len(nums), i+1)\n",
    "    sns.violinplot(y=df[nums[i]], color='gray', orient='v')\n",
    "    plt.tight_layout()"
   ]
  },
  {
   "cell_type": "markdown",
   "id": "56591a80-35e6-45ec-8585-3193058fe643",
   "metadata": {},
   "source": [
    "## Bar Plot for Categorical"
   ]
  },
  {
   "cell_type": "code",
   "execution_count": 16,
   "id": "c38b3f70-a03f-44b4-9e45-e42d3f945fd9",
   "metadata": {},
   "outputs": [
    {
     "data": {
      "image/png": "[encoded data removed]",
      "text/plain": [
       "<Figure size 1440x360 with 4 Axes>"
      ]
     },
     "metadata": {
      "needs_background": "light"
     },
     "output_type": "display_data"
    }
   ],
   "source": [
    "plt.figure(figsize=(20, 5))\n",
    "\n",
    "for i in range(0, len(cats)):\n",
    "    plt.subplot(2, 3, i+1)\n",
    "    sns.countplot(x = df[cats[i]], color='green', orient='v')\n",
    "    plt.tight_layout()\n"
   ]
  },
  {
   "cell_type": "markdown",
   "id": "d5714837-3280-40a2-9ed8-25ada93adab7",
   "metadata": {},
   "source": [
    "Beberapa pengamatan pada Bar Plot diatas:\n",
    "- `Employment Type`: Didominasi oleh private worker/self-employed\n",
    "- `Graduate or Not` : Didominasi oleh yang lulus\n",
    "- `Frequent Flyer` : Didominasi oleh yang bukan merupakan FF\n",
    "- `EverTravelledAbroad` : Didominasi oleh yang belum pernah"
   ]
  },
  {
   "cell_type": "markdown",
   "id": "3fc99699-8a14-43ca-bddc-22377ad3df1e",
   "metadata": {},
   "source": [
    "# Multivariate Analysis"
   ]
  },
  {
   "cell_type": "markdown",
   "id": "d1d7e089-a985-450c-b104-04b9d49fa4db",
   "metadata": {},
   "source": [
    "Lakukan multivariate analysis (seperti correlation heatmap dan category plots, sesuai yang diajarkan di kelas). Tuliskan hasil observasinya, seperti:\n",
    "\n",
    "    A. Bagaimana korelasi antara masing-masing feature dan label. Kira-kira feature mana saja yang paling relevan dan harus dipertahankan?\n",
    "    B. Bagaimana korelasi antar-feature, apakah ada pola yang menarik? Apa yang perlu dilakukan terhadap feature itu?\n",
    "    \n",
    "Tuliskan juga jika memang tidak ada feature yang saling berkorelasi"
   ]
  },
  {
   "cell_type": "code",
   "execution_count": 17,
   "id": "e2fb558f-beae-4bf0-a3a1-c84db472f1d0",
   "metadata": {},
   "outputs": [
    {
     "name": "stdout",
     "output_type": "stream",
     "text": [
      "Sebelum\n",
      "Value count kolom Employment Type:\n",
      "Private Sector/Self Employed    1417\n",
      "Government Sector                570\n",
      "Name: Employment Type, dtype: int64\n",
      "\n",
      "Value count kolom GraduateOrNot:\n",
      "Yes    1692\n",
      "No      295\n",
      "Name: GraduateOrNot, dtype: int64\n",
      "\n",
      "Value count kolom FrequentFlyer:\n",
      "No     1570\n",
      "Yes     417\n",
      "Name: FrequentFlyer, dtype: int64\n",
      "\n",
      "Value count kolom EverTravelledAbroad:\n",
      "No     1607\n",
      "Yes     380\n",
      "Name: EverTravelledAbroad, dtype: int64\n",
      "\n"
     ]
    }
   ],
   "source": [
    "## Perlu dilakukan encoding untuk melihat korelasi data kategorikal\n",
    "print('Sebelum')\n",
    "for col in cats:\n",
    "    print(f'''Value count kolom {col}:''')\n",
    "    print(df[col].value_counts())\n",
    "    print()"
   ]
  },
  {
   "cell_type": "code",
   "execution_count": 18,
   "id": "249b0a81-9306-4e1f-a764-4ce5d65f793f",
   "metadata": {},
   "outputs": [
    {
     "data": {
      "text/html": [
       "<div>\n",
       "<style scoped>\n",
       "    .dataframe tbody tr th:only-of-type {\n",
       "        vertical-align: middle;\n",
       "    }\n",
       "\n",
       "    .dataframe tbody tr th {\n",
       "        vertical-align: top;\n",
       "    }\n",
       "\n",
       "    .dataframe thead th {\n",
       "        text-align: right;\n",
       "    }\n",
       "</style>\n",
       "<table border=\"1\" class=\"dataframe\">\n",
       "  <thead>\n",
       "    <tr style=\"text-align: right;\">\n",
       "      <th></th>\n",
       "      <th>Unnamed: 0</th>\n",
       "      <th>Age</th>\n",
       "      <th>Employment Type</th>\n",
       "      <th>GraduateOrNot</th>\n",
       "      <th>AnnualIncome</th>\n",
       "      <th>FamilyMembers</th>\n",
       "      <th>ChronicDiseases</th>\n",
       "      <th>FrequentFlyer</th>\n",
       "      <th>EverTravelledAbroad</th>\n",
       "      <th>TravelInsurance</th>\n",
       "    </tr>\n",
       "  </thead>\n",
       "  <tbody>\n",
       "    <tr>\n",
       "      <th>0</th>\n",
       "      <td>0</td>\n",
       "      <td>31</td>\n",
       "      <td>0</td>\n",
       "      <td>1</td>\n",
       "      <td>400000</td>\n",
       "      <td>6</td>\n",
       "      <td>1</td>\n",
       "      <td>0</td>\n",
       "      <td>0</td>\n",
       "      <td>0</td>\n",
       "    </tr>\n",
       "    <tr>\n",
       "      <th>1</th>\n",
       "      <td>1</td>\n",
       "      <td>31</td>\n",
       "      <td>1</td>\n",
       "      <td>1</td>\n",
       "      <td>1250000</td>\n",
       "      <td>7</td>\n",
       "      <td>0</td>\n",
       "      <td>0</td>\n",
       "      <td>0</td>\n",
       "      <td>0</td>\n",
       "    </tr>\n",
       "    <tr>\n",
       "      <th>2</th>\n",
       "      <td>2</td>\n",
       "      <td>34</td>\n",
       "      <td>1</td>\n",
       "      <td>1</td>\n",
       "      <td>500000</td>\n",
       "      <td>4</td>\n",
       "      <td>1</td>\n",
       "      <td>0</td>\n",
       "      <td>0</td>\n",
       "      <td>1</td>\n",
       "    </tr>\n",
       "    <tr>\n",
       "      <th>3</th>\n",
       "      <td>3</td>\n",
       "      <td>28</td>\n",
       "      <td>1</td>\n",
       "      <td>1</td>\n",
       "      <td>700000</td>\n",
       "      <td>3</td>\n",
       "      <td>1</td>\n",
       "      <td>0</td>\n",
       "      <td>0</td>\n",
       "      <td>0</td>\n",
       "    </tr>\n",
       "    <tr>\n",
       "      <th>4</th>\n",
       "      <td>4</td>\n",
       "      <td>28</td>\n",
       "      <td>1</td>\n",
       "      <td>1</td>\n",
       "      <td>700000</td>\n",
       "      <td>8</td>\n",
       "      <td>1</td>\n",
       "      <td>1</td>\n",
       "      <td>0</td>\n",
       "      <td>0</td>\n",
       "    </tr>\n",
       "  </tbody>\n",
       "</table>\n",
       "</div>"
      ],
      "text/plain": [
       "   Unnamed: 0  Age  Employment Type  GraduateOrNot  AnnualIncome  \\\n",
       "0           0   31                0              1        400000   \n",
       "1           1   31                1              1       1250000   \n",
       "2           2   34                1              1        500000   \n",
       "3           3   28                1              1        700000   \n",
       "4           4   28                1              1        700000   \n",
       "\n",
       "   FamilyMembers  ChronicDiseases  FrequentFlyer  EverTravelledAbroad  \\\n",
       "0              6                1              0                    0   \n",
       "1              7                0              0                    0   \n",
       "2              4                1              0                    0   \n",
       "3              3                1              0                    0   \n",
       "4              8                1              1                    0   \n",
       "\n",
       "   TravelInsurance  \n",
       "0                0  \n",
       "1                0  \n",
       "2                1  \n",
       "3                0  \n",
       "4                0  "
      ]
     },
     "execution_count": 18,
     "metadata": {},
     "output_type": "execute_result"
    }
   ],
   "source": [
    "df['Employment Type'].replace(['Government Sector', 'Private Sector/Self Employed'], [0, 1], inplace=True)\n",
    "df['GraduateOrNot'].replace(['No', 'Yes'], [0, 1], inplace=True)\n",
    "df['FrequentFlyer'].replace(['No', 'Yes'], [0, 1], inplace=True)\n",
    "df['EverTravelledAbroad'].replace(['No', 'Yes'], [0, 1], inplace=True)\n",
    "\n",
    "df.head()"
   ]
  },
  {
   "cell_type": "code",
   "execution_count": 19,
   "id": "1ddef789-ad49-4865-b0d5-518caa2bd301",
   "metadata": {},
   "outputs": [
    {
     "name": "stdout",
     "output_type": "stream",
     "text": [
      "Setelah melakukan encoding\n",
      "Jumlah baris di Employment Type\n",
      "1    1417\n",
      "0     570\n",
      "Name: Employment Type, dtype: int64\n",
      "------------------------------ \n",
      "\n",
      "Jumlah baris di GraduateOrNot\n",
      "1    1692\n",
      "0     295\n",
      "Name: GraduateOrNot, dtype: int64\n",
      "------------------------------ \n",
      "\n",
      "Jumlah baris di FrequentFlyer\n",
      "0    1570\n",
      "1     417\n",
      "Name: FrequentFlyer, dtype: int64\n",
      "------------------------------ \n",
      "\n",
      "Jumlah baris di EverTravelledAbroad\n",
      "0    1607\n",
      "1     380\n",
      "Name: EverTravelledAbroad, dtype: int64\n",
      "------------------------------ \n",
      "\n"
     ]
    }
   ],
   "source": [
    "print('Setelah melakukan encoding')\n",
    "for col in cats:\n",
    "  print(f'Jumlah baris di {col}')\n",
    "  print(df[col].value_counts())\n",
    "  print('---'*10, '\\n')"
   ]
  },
  {
   "cell_type": "markdown",
   "id": "8e28cf44-67fd-4932-8ff8-80543169d562",
   "metadata": {},
   "source": [
    "## Correlation Heatmap"
   ]
  },
  {
   "cell_type": "code",
   "execution_count": 20,
   "id": "19fd2c4b-f2e6-49e7-8aa4-b1c73fb5cdf8",
   "metadata": {},
   "outputs": [
    {
     "data": {
      "text/html": [
       "<div>\n",
       "<style scoped>\n",
       "    .dataframe tbody tr th:only-of-type {\n",
       "        vertical-align: middle;\n",
       "    }\n",
       "\n",
       "    .dataframe tbody tr th {\n",
       "        vertical-align: top;\n",
       "    }\n",
       "\n",
       "    .dataframe thead th {\n",
       "        text-align: right;\n",
       "    }\n",
       "</style>\n",
       "<table border=\"1\" class=\"dataframe\">\n",
       "  <thead>\n",
       "    <tr style=\"text-align: right;\">\n",
       "      <th></th>\n",
       "      <th>Unnamed: 0</th>\n",
       "      <th>Age</th>\n",
       "      <th>Employment Type</th>\n",
       "      <th>GraduateOrNot</th>\n",
       "      <th>AnnualIncome</th>\n",
       "      <th>FamilyMembers</th>\n",
       "      <th>ChronicDiseases</th>\n",
       "      <th>FrequentFlyer</th>\n",
       "      <th>EverTravelledAbroad</th>\n",
       "      <th>TravelInsurance</th>\n",
       "    </tr>\n",
       "  </thead>\n",
       "  <tbody>\n",
       "    <tr>\n",
       "      <th>Unnamed: 0</th>\n",
       "      <td>1.000000</td>\n",
       "      <td>-0.004917</td>\n",
       "      <td>-0.015769</td>\n",
       "      <td>-0.008602</td>\n",
       "      <td>-0.025031</td>\n",
       "      <td>-0.041506</td>\n",
       "      <td>-0.006858</td>\n",
       "      <td>-0.004596</td>\n",
       "      <td>-0.002160</td>\n",
       "      <td>0.006196</td>\n",
       "    </tr>\n",
       "    <tr>\n",
       "      <th>Age</th>\n",
       "      <td>-0.004917</td>\n",
       "      <td>1.000000</td>\n",
       "      <td>-0.115134</td>\n",
       "      <td>0.027125</td>\n",
       "      <td>-0.020101</td>\n",
       "      <td>0.027409</td>\n",
       "      <td>0.007359</td>\n",
       "      <td>-0.033159</td>\n",
       "      <td>-0.012779</td>\n",
       "      <td>0.061060</td>\n",
       "    </tr>\n",
       "    <tr>\n",
       "      <th>Employment Type</th>\n",
       "      <td>-0.015769</td>\n",
       "      <td>-0.115134</td>\n",
       "      <td>1.000000</td>\n",
       "      <td>-0.127133</td>\n",
       "      <td>0.349157</td>\n",
       "      <td>-0.003354</td>\n",
       "      <td>-0.011553</td>\n",
       "      <td>0.143790</td>\n",
       "      <td>0.181098</td>\n",
       "      <td>0.147847</td>\n",
       "    </tr>\n",
       "    <tr>\n",
       "      <th>GraduateOrNot</th>\n",
       "      <td>-0.008602</td>\n",
       "      <td>0.027125</td>\n",
       "      <td>-0.127133</td>\n",
       "      <td>1.000000</td>\n",
       "      <td>0.108066</td>\n",
       "      <td>0.021201</td>\n",
       "      <td>0.018811</td>\n",
       "      <td>-0.028120</td>\n",
       "      <td>0.062683</td>\n",
       "      <td>0.018934</td>\n",
       "    </tr>\n",
       "    <tr>\n",
       "      <th>AnnualIncome</th>\n",
       "      <td>-0.025031</td>\n",
       "      <td>-0.020101</td>\n",
       "      <td>0.349157</td>\n",
       "      <td>0.108066</td>\n",
       "      <td>1.000000</td>\n",
       "      <td>-0.015367</td>\n",
       "      <td>-0.001149</td>\n",
       "      <td>0.353087</td>\n",
       "      <td>0.486043</td>\n",
       "      <td>0.396763</td>\n",
       "    </tr>\n",
       "    <tr>\n",
       "      <th>FamilyMembers</th>\n",
       "      <td>-0.041506</td>\n",
       "      <td>0.027409</td>\n",
       "      <td>-0.003354</td>\n",
       "      <td>0.021201</td>\n",
       "      <td>-0.015367</td>\n",
       "      <td>1.000000</td>\n",
       "      <td>0.028209</td>\n",
       "      <td>-0.023775</td>\n",
       "      <td>-0.020755</td>\n",
       "      <td>0.079909</td>\n",
       "    </tr>\n",
       "    <tr>\n",
       "      <th>ChronicDiseases</th>\n",
       "      <td>-0.006858</td>\n",
       "      <td>0.007359</td>\n",
       "      <td>-0.011553</td>\n",
       "      <td>0.018811</td>\n",
       "      <td>-0.001149</td>\n",
       "      <td>0.028209</td>\n",
       "      <td>1.000000</td>\n",
       "      <td>-0.043720</td>\n",
       "      <td>0.021238</td>\n",
       "      <td>0.018190</td>\n",
       "    </tr>\n",
       "    <tr>\n",
       "      <th>FrequentFlyer</th>\n",
       "      <td>-0.004596</td>\n",
       "      <td>-0.033159</td>\n",
       "      <td>0.143790</td>\n",
       "      <td>-0.028120</td>\n",
       "      <td>0.353087</td>\n",
       "      <td>-0.023775</td>\n",
       "      <td>-0.043720</td>\n",
       "      <td>1.000000</td>\n",
       "      <td>0.277334</td>\n",
       "      <td>0.232103</td>\n",
       "    </tr>\n",
       "    <tr>\n",
       "      <th>EverTravelledAbroad</th>\n",
       "      <td>-0.002160</td>\n",
       "      <td>-0.012779</td>\n",
       "      <td>0.181098</td>\n",
       "      <td>0.062683</td>\n",
       "      <td>0.486043</td>\n",
       "      <td>-0.020755</td>\n",
       "      <td>0.021238</td>\n",
       "      <td>0.277334</td>\n",
       "      <td>1.000000</td>\n",
       "      <td>0.433183</td>\n",
       "    </tr>\n",
       "    <tr>\n",
       "      <th>TravelInsurance</th>\n",
       "      <td>0.006196</td>\n",
       "      <td>0.061060</td>\n",
       "      <td>0.147847</td>\n",
       "      <td>0.018934</td>\n",
       "      <td>0.396763</td>\n",
       "      <td>0.079909</td>\n",
       "      <td>0.018190</td>\n",
       "      <td>0.232103</td>\n",
       "      <td>0.433183</td>\n",
       "      <td>1.000000</td>\n",
       "    </tr>\n",
       "  </tbody>\n",
       "</table>\n",
       "</div>"
      ],
      "text/plain": [
       "                     Unnamed: 0       Age  Employment Type  GraduateOrNot  \\\n",
       "Unnamed: 0             1.000000 -0.004917        -0.015769      -0.008602   \n",
       "Age                   -0.004917  1.000000        -0.115134       0.027125   \n",
       "Employment Type       -0.015769 -0.115134         1.000000      -0.127133   \n",
       "GraduateOrNot         -0.008602  0.027125        -0.127133       1.000000   \n",
       "AnnualIncome          -0.025031 -0.020101         0.349157       0.108066   \n",
       "FamilyMembers         -0.041506  0.027409        -0.003354       0.021201   \n",
       "ChronicDiseases       -0.006858  0.007359        -0.011553       0.018811   \n",
       "FrequentFlyer         -0.004596 -0.033159         0.143790      -0.028120   \n",
       "EverTravelledAbroad   -0.002160 -0.012779         0.181098       0.062683   \n",
       "TravelInsurance        0.006196  0.061060         0.147847       0.018934   \n",
       "\n",
       "                     AnnualIncome  FamilyMembers  ChronicDiseases  \\\n",
       "Unnamed: 0              -0.025031      -0.041506        -0.006858   \n",
       "Age                     -0.020101       0.027409         0.007359   \n",
       "Employment Type          0.349157      -0.003354        -0.011553   \n",
       "GraduateOrNot            0.108066       0.021201         0.018811   \n",
       "AnnualIncome             1.000000      -0.015367        -0.001149   \n",
       "FamilyMembers           -0.015367       1.000000         0.028209   \n",
       "ChronicDiseases         -0.001149       0.028209         1.000000   \n",
       "FrequentFlyer            0.353087      -0.023775        -0.043720   \n",
       "EverTravelledAbroad      0.486043      -0.020755         0.021238   \n",
       "TravelInsurance          0.396763       0.079909         0.018190   \n",
       "\n",
       "                     FrequentFlyer  EverTravelledAbroad  TravelInsurance  \n",
       "Unnamed: 0               -0.004596            -0.002160         0.006196  \n",
       "Age                      -0.033159            -0.012779         0.061060  \n",
       "Employment Type           0.143790             0.181098         0.147847  \n",
       "GraduateOrNot            -0.028120             0.062683         0.018934  \n",
       "AnnualIncome              0.353087             0.486043         0.396763  \n",
       "FamilyMembers            -0.023775            -0.020755         0.079909  \n",
       "ChronicDiseases          -0.043720             0.021238         0.018190  \n",
       "FrequentFlyer             1.000000             0.277334         0.232103  \n",
       "EverTravelledAbroad       0.277334             1.000000         0.433183  \n",
       "TravelInsurance           0.232103             0.433183         1.000000  "
      ]
     },
     "execution_count": 20,
     "metadata": {},
     "output_type": "execute_result"
    }
   ],
   "source": [
    "df.corr()"
   ]
  },
  {
   "cell_type": "code",
   "execution_count": 21,
   "id": "1470b77a-f5f8-4e11-88c4-3633ade6044a",
   "metadata": {},
   "outputs": [
    {
     "data": {
      "text/plain": [
       "<AxesSubplot:>"
      ]
     },
     "execution_count": 21,
     "metadata": {},
     "output_type": "execute_result"
    },
    {
     "data": {
      "image/png": "[encoded data removed]",
      "text/plain": [
       "<Figure size 720x720 with 2 Axes>"
      ]
     },
     "metadata": {
      "needs_background": "light"
     },
     "output_type": "display_data"
    }
   ],
   "source": [
    "plt.figure(figsize=(10, 10))\n",
    "sns.heatmap(df.corr(), cmap='YlOrBr', annot=True, fmt='.2f')"
   ]
  },
  {
   "cell_type": "markdown",
   "id": "32c78041-6e89-4cba-ba7f-ad612da3d31a",
   "metadata": {},
   "source": [
    "Dari correlation heatmap diatas dapat dilihat bahwa:\n",
    "\n",
    "- korelasi faktor-faktor terhadap pembelian asuransi semuanya positif\n",
    "- faktor-faktor yang memiliki korelasi cukup tinggi terhadap pembelian travel insurance adalah: `Annual income` dan `EverTravelledAbroad`\n",
    "- faktor-faktor yang memiliki korelasi lemah adalah; `EmploymentType`, `FrequentFlyer`\n",
    "- `AnnualIncome` memiliki korelasi tinggi terhadap beberapa kolom lainnya (EmploymentType, FrequentFlyer, EverTravelledAbroad)  Apakah ini bisa diartikan kalau pendapatan seseorang akan sangat berpengaruh?\n",
    "\n",
    "catatan: (namun korelasi ini sebenarnya lemah, namun relatif terhadap faktor lainnya)"
   ]
  },
  {
   "cell_type": "markdown",
   "id": "91a97ed6-5d25-4293-b459-989aa9b6927a",
   "metadata": {},
   "source": [
    "## Pair Plot"
   ]
  },
  {
   "cell_type": "code",
   "execution_count": 22,
   "id": "de3e3979-0bc9-462f-842f-fa99a470197d",
   "metadata": {},
   "outputs": [
    {
     "data": {
      "text/html": [
       "<div>\n",
       "<style scoped>\n",
       "    .dataframe tbody tr th:only-of-type {\n",
       "        vertical-align: middle;\n",
       "    }\n",
       "\n",
       "    .dataframe tbody tr th {\n",
       "        vertical-align: top;\n",
       "    }\n",
       "\n",
       "    .dataframe thead th {\n",
       "        text-align: right;\n",
       "    }\n",
       "</style>\n",
       "<table border=\"1\" class=\"dataframe\">\n",
       "  <thead>\n",
       "    <tr style=\"text-align: right;\">\n",
       "      <th></th>\n",
       "      <th>AnnualIncome</th>\n",
       "      <th>EverTravelledAbroad</th>\n",
       "      <th>Employment Type</th>\n",
       "      <th>FrequentFlyer</th>\n",
       "      <th>TravelInsurance</th>\n",
       "    </tr>\n",
       "  </thead>\n",
       "  <tbody>\n",
       "    <tr>\n",
       "      <th>0</th>\n",
       "      <td>400000</td>\n",
       "      <td>0</td>\n",
       "      <td>0</td>\n",
       "      <td>0</td>\n",
       "      <td>0</td>\n",
       "    </tr>\n",
       "  </tbody>\n",
       "</table>\n",
       "</div>"
      ],
      "text/plain": [
       "   AnnualIncome  EverTravelledAbroad  Employment Type  FrequentFlyer  \\\n",
       "0        400000                    0                0              0   \n",
       "\n",
       "   TravelInsurance  \n",
       "0                0  "
      ]
     },
     "execution_count": 22,
     "metadata": {},
     "output_type": "execute_result"
    }
   ],
   "source": [
    "df_2 = df[['AnnualIncome','EverTravelledAbroad','Employment Type','FrequentFlyer','TravelInsurance']]\n",
    "df_2.head(1)"
   ]
  },
  {
   "cell_type": "code",
   "execution_count": 23,
   "id": "67a69e38-1e53-465a-8957-0af77af18efc",
   "metadata": {},
   "outputs": [
    {
     "data": {
      "text/plain": [
       "<seaborn.axisgrid.PairGrid at 0x1e857853070>"
      ]
     },
     "execution_count": 23,
     "metadata": {},
     "output_type": "execute_result"
    },
    {
     "data": {
      "text/plain": [
       "<Figure size 1080x1080 with 0 Axes>"
      ]
     },
     "metadata": {},
     "output_type": "display_data"
    },
    {
     "data": {
      "image/png": "[encoded data removed]",
      "text/plain": [
       "<Figure size 900x900 with 30 Axes>"
      ]
     },
     "metadata": {
      "needs_background": "light"
     },
     "output_type": "display_data"
    }
   ],
   "source": [
    "plt.figure(figsize=(15, 15))\n",
    "sns.pairplot(df_2, diag_kind='kde')"
   ]
  },
  {
   "cell_type": "markdown",
   "id": "2862eb22-efa5-46d9-87a1-7d89bd6a2012",
   "metadata": {},
   "source": [
    "## Category Plot"
   ]
  },
  {
   "cell_type": "code",
   "execution_count": 24,
   "id": "29cc2dbb-60aa-4271-b296-bd6acbca3de4",
   "metadata": {},
   "outputs": [
    {
     "data": {
      "image/png": "[encoded data removed]",
      "text/plain": [
       "<Figure size 864x288 with 4 Axes>"
      ]
     },
     "metadata": {
      "needs_background": "light"
     },
     "output_type": "display_data"
    }
   ],
   "source": [
    "features = cats\n",
    "for i in range(0, len(features)):\n",
    "    plt.subplot(2, 2, i+1) \n",
    "    sns.kdeplot(data=df, x='TravelInsurance', hue=features[i])\n",
    "    #plt.xlabel(features[i])\n",
    "    plt.tight_layout()"
   ]
  },
  {
   "cell_type": "markdown",
   "id": "8d629072-0d12-475b-acf1-a4fa539166fa",
   "metadata": {},
   "source": [
    "# Business Insight"
   ]
  },
  {
   "cell_type": "markdown",
   "id": "fa06bbdd-2a2e-4e1f-abbb-800b8216cb69",
   "metadata": {},
   "source": [
    "Selain EDA, lakukan juga beberapa analisis dan visualisasi untuk menemukan suatu business insight. Tuliskan minimal 3 insight, dan berdasarkan insight tersebut jelaskan rekomendasinya untuk bisnis."
   ]
  },
  {
   "cell_type": "markdown",
   "id": "00a3b206-8e63-45d2-883f-9c5f1b611454",
   "metadata": {},
   "source": [
    "## Berapa banyak pelanggan yang membeli Travel Insurance?"
   ]
  },
  {
   "cell_type": "code",
   "execution_count": 25,
   "id": "b33d49a4-6455-419b-9f8e-7fd291c007b5",
   "metadata": {},
   "outputs": [
    {
     "data": {
      "text/html": [
       "<div>\n",
       "<style scoped>\n",
       "    .dataframe tbody tr th:only-of-type {\n",
       "        vertical-align: middle;\n",
       "    }\n",
       "\n",
       "    .dataframe tbody tr th {\n",
       "        vertical-align: top;\n",
       "    }\n",
       "\n",
       "    .dataframe thead th {\n",
       "        text-align: right;\n",
       "    }\n",
       "</style>\n",
       "<table border=\"1\" class=\"dataframe\">\n",
       "  <thead>\n",
       "    <tr style=\"text-align: right;\">\n",
       "      <th></th>\n",
       "      <th>TravelInsurance</th>\n",
       "      <th>counts</th>\n",
       "      <th>ratio</th>\n",
       "    </tr>\n",
       "  </thead>\n",
       "  <tbody>\n",
       "    <tr>\n",
       "      <th>0</th>\n",
       "      <td>0</td>\n",
       "      <td>1277</td>\n",
       "      <td>64.26774</td>\n",
       "    </tr>\n",
       "    <tr>\n",
       "      <th>1</th>\n",
       "      <td>1</td>\n",
       "      <td>710</td>\n",
       "      <td>35.73226</td>\n",
       "    </tr>\n",
       "  </tbody>\n",
       "</table>\n",
       "</div>"
      ],
      "text/plain": [
       "   TravelInsurance  counts     ratio\n",
       "0                0    1277  64.26774\n",
       "1                1     710  35.73226"
      ]
     },
     "execution_count": 25,
     "metadata": {},
     "output_type": "execute_result"
    }
   ],
   "source": [
    "dummy1 = df.groupby('TravelInsurance').size().reset_index(name='counts')\n",
    "dummy1['ratio'] = (dummy1['counts'])/1987*100\n",
    "dummy1"
   ]
  },
  {
   "cell_type": "markdown",
   "id": "7f34a1e5-6a98-4623-b2fb-1b22bc9bbccc",
   "metadata": {},
   "source": [
    "Berdasarkan tabel diatas, dari sebanyak 1987 Pelanggan, hanya `35,7 % yang membeli Travel Insurance`"
   ]
  },
  {
   "cell_type": "markdown",
   "id": "43854858-9dc4-4940-b28b-645e2214a550",
   "metadata": {},
   "source": [
    "## Apakah umur merupakah faktor penting dalam pembelian asuransi?"
   ]
  },
  {
   "cell_type": "code",
   "execution_count": 26,
   "id": "437d726d-c09d-4210-9816-4cbd6114b2bf",
   "metadata": {},
   "outputs": [
    {
     "data": {
      "text/plain": [
       "Text(0.5, 1.0, 'Travel Insurance Buyers by Age Category')"
      ]
     },
     "execution_count": 26,
     "metadata": {},
     "output_type": "execute_result"
    },
    {
     "data": {
      "image/png": "[encoded data removed]",
      "text/plain": [
       "<Figure size 864x288 with 1 Axes>"
      ]
     },
     "metadata": {
      "needs_background": "light"
     },
     "output_type": "display_data"
    }
   ],
   "source": [
    "sns.histplot(x='Age', hue='TravelInsurance', data=df, color='indianred', palette=\"YlOrRd\", multiple='stack')\n",
    "plt.title('Travel Insurance Buyers by Age Category')"
   ]
  },
  {
   "cell_type": "code",
   "execution_count": 27,
   "id": "37a363b6-7a59-439d-b1bb-b0cb33a2e996",
   "metadata": {},
   "outputs": [
    {
     "data": {
      "text/plain": [
       "Text(0.5, 1.0, 'Travel Insurance Buyers by Age Category (Ratio)')"
      ]
     },
     "execution_count": 27,
     "metadata": {},
     "output_type": "execute_result"
    },
    {
     "data": {
      "image/png": "[encoded data removed]",
      "text/plain": [
       "<Figure size 864x288 with 1 Axes>"
      ]
     },
     "metadata": {
      "needs_background": "light"
     },
     "output_type": "display_data"
    }
   ],
   "source": [
    "sns.histplot(x='Age', hue='TravelInsurance', data=df, color='indianred', palette=\"YlOrRd\", multiple='fill')\n",
    "plt.title('Travel Insurance Buyers by Age Category (Ratio)')"
   ]
  },
  {
   "cell_type": "markdown",
   "id": "1872098b-1bee-4e8a-b977-324564bc7899",
   "metadata": {},
   "source": [
    "Insight:\n",
    "- 25% Pelanggan berada di age grup `28`, namun di grup umur ini yang membeli asuransi travel hanya 20%\n",
    "- age grup `25` dan `26` secara global tidak terlalu banyak, namun di grup ini banyak yang membeli asuransi travel 63% dan 50%\n",
    "- Age group `33-35` banyak juga yang membeli travel insurance"
   ]
  },
  {
   "cell_type": "markdown",
   "id": "9d17cb4a-e457-4f69-bb17-15ea0192b721",
   "metadata": {},
   "source": [
    "## Apakah EmploymentType merupakah faktor penting dalam pembelian asuransi?"
   ]
  },
  {
   "cell_type": "markdown",
   "id": "bd83e4e0-dc96-4750-b154-53df08781dda",
   "metadata": {},
   "source": [
    "Note :\n",
    "- 0 = `Government Sector`\n",
    "- 1 = `Private Sector / Self Employed`"
   ]
  },
  {
   "cell_type": "code",
   "execution_count": 28,
   "id": "b36ee1fb-f073-4d1d-aa94-ac5b8ffb783e",
   "metadata": {},
   "outputs": [
    {
     "data": {
      "text/html": [
       "<div>\n",
       "<style scoped>\n",
       "    .dataframe tbody tr th:only-of-type {\n",
       "        vertical-align: middle;\n",
       "    }\n",
       "\n",
       "    .dataframe tbody tr th {\n",
       "        vertical-align: top;\n",
       "    }\n",
       "\n",
       "    .dataframe thead th {\n",
       "        text-align: right;\n",
       "    }\n",
       "</style>\n",
       "<table border=\"1\" class=\"dataframe\">\n",
       "  <thead>\n",
       "    <tr style=\"text-align: right;\">\n",
       "      <th></th>\n",
       "      <th>Employment Type</th>\n",
       "      <th>TravelInsurance</th>\n",
       "      <th>counts</th>\n",
       "      <th>ratio %</th>\n",
       "    </tr>\n",
       "  </thead>\n",
       "  <tbody>\n",
       "    <tr>\n",
       "      <th>0</th>\n",
       "      <td>0</td>\n",
       "      <td>0</td>\n",
       "      <td>430</td>\n",
       "      <td>75.50</td>\n",
       "    </tr>\n",
       "    <tr>\n",
       "      <th>1</th>\n",
       "      <td>0</td>\n",
       "      <td>1</td>\n",
       "      <td>140</td>\n",
       "      <td>24.56</td>\n",
       "    </tr>\n",
       "    <tr>\n",
       "      <th>2</th>\n",
       "      <td>1</td>\n",
       "      <td>0</td>\n",
       "      <td>847</td>\n",
       "      <td>59.70</td>\n",
       "    </tr>\n",
       "    <tr>\n",
       "      <th>3</th>\n",
       "      <td>1</td>\n",
       "      <td>1</td>\n",
       "      <td>570</td>\n",
       "      <td>40.30</td>\n",
       "    </tr>\n",
       "  </tbody>\n",
       "</table>\n",
       "</div>"
      ],
      "text/plain": [
       "   Employment Type  TravelInsurance  counts  ratio %\n",
       "0                0                0     430    75.50\n",
       "1                0                1     140    24.56\n",
       "2                1                0     847    59.70\n",
       "3                1                1     570    40.30"
      ]
     },
     "execution_count": 28,
     "metadata": {},
     "output_type": "execute_result"
    }
   ],
   "source": [
    "dummy3 = df.groupby(['Employment Type','TravelInsurance']).size().reset_index(name='counts')\n",
    "dummy3['ratio %'] = [75.5,24.56,59.7,40.3]\n",
    "dummy3"
   ]
  },
  {
   "cell_type": "code",
   "execution_count": 29,
   "id": "53bf058c-9a49-4b12-ae2b-f91d3caee6a1",
   "metadata": {},
   "outputs": [
    {
     "data": {
      "text/plain": [
       "<AxesSubplot:xlabel='Employment Type', ylabel='Count'>"
      ]
     },
     "execution_count": 29,
     "metadata": {},
     "output_type": "execute_result"
    },
    {
     "data": {
      "image/png": "[encoded data removed]",
      "text/plain": [
       "<Figure size 576x288 with 1 Axes>"
      ]
     },
     "metadata": {
      "needs_background": "light"
     },
     "output_type": "display_data"
    }
   ],
   "source": [
    "plt.figure(figsize=(8,4))\n",
    "sns.histplot(x='Employment Type', hue='TravelInsurance', data=df, color='indianred', palette=\"YlOrRd\", multiple='stack')"
   ]
  },
  {
   "cell_type": "code",
   "execution_count": 30,
   "id": "0e198fec-699a-4f1f-8b96-cb85cd980fa3",
   "metadata": {},
   "outputs": [
    {
     "data": {
      "image/png": "[encoded data removed]",
      "text/plain": [
       "<Figure size 864x288 with 1 Axes>"
      ]
     },
     "metadata": {
      "needs_background": "light"
     },
     "output_type": "display_data"
    }
   ],
   "source": [
    "sns.histplot(x='Employment Type', hue='TravelInsurance', data=df, color='indianred', palette=\"YlOrRd\", multiple='fill')\n",
    "plt.tight_layout()"
   ]
  },
  {
   "cell_type": "markdown",
   "id": "ec390d51-f9f6-483d-8b83-94005a744f6d",
   "metadata": {},
   "source": [
    "Insight:\n",
    "- Private Sector / Self Employed lebih mungkin untuk membeli asuransi (40.3%) dibandingkan dengan gov.sector (24.6%)"
   ]
  },
  {
   "cell_type": "markdown",
   "id": "b43cc8b8-4f3c-4c34-b613-1d55cbb6efb6",
   "metadata": {},
   "source": [
    "## Apakah GraduateOrNot merupakah faktor penting dalam pembelian asuransi?"
   ]
  },
  {
   "cell_type": "code",
   "execution_count": 31,
   "id": "ed5cbdf2-9b90-41dc-be55-10ef82551176",
   "metadata": {},
   "outputs": [
    {
     "data": {
      "text/html": [
       "<div>\n",
       "<style scoped>\n",
       "    .dataframe tbody tr th:only-of-type {\n",
       "        vertical-align: middle;\n",
       "    }\n",
       "\n",
       "    .dataframe tbody tr th {\n",
       "        vertical-align: top;\n",
       "    }\n",
       "\n",
       "    .dataframe thead th {\n",
       "        text-align: right;\n",
       "    }\n",
       "</style>\n",
       "<table border=\"1\" class=\"dataframe\">\n",
       "  <thead>\n",
       "    <tr style=\"text-align: right;\">\n",
       "      <th></th>\n",
       "      <th>GraduateOrNot</th>\n",
       "      <th>TravelInsurance</th>\n",
       "      <th>counts</th>\n",
       "      <th>ratio %</th>\n",
       "    </tr>\n",
       "  </thead>\n",
       "  <tbody>\n",
       "    <tr>\n",
       "      <th>0</th>\n",
       "      <td>0</td>\n",
       "      <td>0</td>\n",
       "      <td>196</td>\n",
       "      <td>66.44</td>\n",
       "    </tr>\n",
       "    <tr>\n",
       "      <th>1</th>\n",
       "      <td>0</td>\n",
       "      <td>1</td>\n",
       "      <td>99</td>\n",
       "      <td>33.55</td>\n",
       "    </tr>\n",
       "    <tr>\n",
       "      <th>2</th>\n",
       "      <td>1</td>\n",
       "      <td>0</td>\n",
       "      <td>1081</td>\n",
       "      <td>63.88</td>\n",
       "    </tr>\n",
       "    <tr>\n",
       "      <th>3</th>\n",
       "      <td>1</td>\n",
       "      <td>1</td>\n",
       "      <td>611</td>\n",
       "      <td>36.11</td>\n",
       "    </tr>\n",
       "  </tbody>\n",
       "</table>\n",
       "</div>"
      ],
      "text/plain": [
       "   GraduateOrNot  TravelInsurance  counts  ratio %\n",
       "0              0                0     196    66.44\n",
       "1              0                1      99    33.55\n",
       "2              1                0    1081    63.88\n",
       "3              1                1     611    36.11"
      ]
     },
     "execution_count": 31,
     "metadata": {},
     "output_type": "execute_result"
    }
   ],
   "source": [
    "dummy4 = df.groupby(['GraduateOrNot','TravelInsurance']).size().reset_index(name='counts')\n",
    "dummy4['ratio %'] = [66.44, 33.55, 63.88, 36.11]\n",
    "dummy4"
   ]
  },
  {
   "cell_type": "code",
   "execution_count": 32,
   "id": "3b862057-ef7d-4928-9ccd-296a6bf8ab39",
   "metadata": {},
   "outputs": [
    {
     "data": {
      "text/plain": [
       "Text(0.5, 1.0, 'Travel Insurance Buyers by Education')"
      ]
     },
     "execution_count": 32,
     "metadata": {},
     "output_type": "execute_result"
    },
    {
     "data": {
      "image/png": "[encoded data removed]",
      "text/plain": [
       "<Figure size 864x288 with 1 Axes>"
      ]
     },
     "metadata": {
      "needs_background": "light"
     },
     "output_type": "display_data"
    }
   ],
   "source": [
    "sns.histplot(x='GraduateOrNot', hue='TravelInsurance', data=df, color='indianred', palette=\"Set2\", multiple='stack')\n",
    "plt.tight_layout()\n",
    "plt.title('Travel Insurance Buyers by Education')"
   ]
  },
  {
   "cell_type": "code",
   "execution_count": 33,
   "id": "5e9c9ef5-cbfa-4024-bc60-bd3803e44af9",
   "metadata": {},
   "outputs": [
    {
     "data": {
      "text/plain": [
       "Text(0.5, 1.0, 'Travel Insurance Buyers by Education (Ratio)')"
      ]
     },
     "execution_count": 33,
     "metadata": {},
     "output_type": "execute_result"
    },
    {
     "data": {
      "image/png": "[encoded data removed]",
      "text/plain": [
       "<Figure size 864x288 with 1 Axes>"
      ]
     },
     "metadata": {
      "needs_background": "light"
     },
     "output_type": "display_data"
    }
   ],
   "source": [
    "sns.histplot(x='GraduateOrNot', hue='TravelInsurance', data=df, color='indianred', palette=\"Set2\", multiple='fill')\n",
    "plt.tight_layout()\n",
    "plt.title('Travel Insurance Buyers by Education (Ratio)')"
   ]
  },
  {
   "cell_type": "markdown",
   "id": "09566b11-2fcc-4d78-87af-06d64d152376",
   "metadata": {},
   "source": [
    "Insight :\n",
    "- Baik yang graduate atau tidak, tendensi pembelian asuransi cenderung sama"
   ]
  },
  {
   "cell_type": "markdown",
   "id": "178a71c8-ecc5-4948-b8d3-970b5f1defb3",
   "metadata": {},
   "source": [
    "## Apakah AnnualIncome mempengaruhi pembelian Travel Insurance?"
   ]
  },
  {
   "cell_type": "code",
   "execution_count": 34,
   "id": "a68a986c-2c83-4fde-9853-89db1d87730f",
   "metadata": {},
   "outputs": [
    {
     "data": {
      "text/plain": [
       "Text(0.5, 1.0, 'Travel Insurance Buyers by Annual Income')"
      ]
     },
     "execution_count": 34,
     "metadata": {},
     "output_type": "execute_result"
    },
    {
     "data": {
      "image/png": "[encoded data removed]",
      "text/plain": [
       "<Figure size 864x288 with 1 Axes>"
      ]
     },
     "metadata": {
      "needs_background": "light"
     },
     "output_type": "display_data"
    }
   ],
   "source": [
    "sns.histplot(x='AnnualIncome', hue='TravelInsurance', data=df, color='indianred', palette=\"YlOrRd\", multiple='stack')\n",
    "plt.tight_layout()\n",
    "plt.title('Travel Insurance Buyers by Annual Income')"
   ]
  },
  {
   "cell_type": "code",
   "execution_count": 35,
   "id": "d060abef-6e69-4fe6-9dab-ce2921b8fe27",
   "metadata": {},
   "outputs": [
    {
     "data": {
      "text/plain": [
       "Text(0.5, 1.0, 'Travel Insurance Buyers by Annual Income (Ratio)')"
      ]
     },
     "execution_count": 35,
     "metadata": {},
     "output_type": "execute_result"
    },
    {
     "data": {
      "image/png": "[encoded data removed]",
      "text/plain": [
       "<Figure size 864x288 with 1 Axes>"
      ]
     },
     "metadata": {
      "needs_background": "light"
     },
     "output_type": "display_data"
    }
   ],
   "source": [
    "sns.histplot(x='AnnualIncome', hue='TravelInsurance', data=df, color='indianred', palette=\"YlOrRd\", multiple='fill')\n",
    "plt.tight_layout()\n",
    "plt.title('Travel Insurance Buyers by Annual Income (Ratio)')"
   ]
  },
  {
   "cell_type": "markdown",
   "id": "f0bda0ef-6dd8-4e5e-8070-737dccd6ddad",
   "metadata": {},
   "source": [
    "Insight :\n",
    "- Terlihat dari histogram, perubahan pembelian asuransi travel terlihat di income 1.3 dan seterusnya. Mereka yang memiliki income >1,3 M cenderung membeli travel insurance"
   ]
  },
  {
   "cell_type": "markdown",
   "id": "324f56e5-6d17-40b5-a302-f971283f0ec0",
   "metadata": {},
   "source": [
    "## Apakah FamilyMember mempengaruhi pembelian Travel Insurance?"
   ]
  },
  {
   "cell_type": "code",
   "execution_count": 36,
   "id": "1195fdd6-24ee-4931-8607-41c5761ff337",
   "metadata": {},
   "outputs": [
    {
     "data": {
      "text/html": [
       "<div>\n",
       "<style scoped>\n",
       "    .dataframe tbody tr th:only-of-type {\n",
       "        vertical-align: middle;\n",
       "    }\n",
       "\n",
       "    .dataframe tbody tr th {\n",
       "        vertical-align: top;\n",
       "    }\n",
       "\n",
       "    .dataframe thead th {\n",
       "        text-align: right;\n",
       "    }\n",
       "</style>\n",
       "<table border=\"1\" class=\"dataframe\">\n",
       "  <thead>\n",
       "    <tr style=\"text-align: right;\">\n",
       "      <th></th>\n",
       "      <th>FamilyMembers</th>\n",
       "      <th>TravelInsurance</th>\n",
       "      <th>counts</th>\n",
       "      <th>ratio %</th>\n",
       "    </tr>\n",
       "  </thead>\n",
       "  <tbody>\n",
       "    <tr>\n",
       "      <th>0</th>\n",
       "      <td>2</td>\n",
       "      <td>0</td>\n",
       "      <td>66</td>\n",
       "      <td>70.97</td>\n",
       "    </tr>\n",
       "    <tr>\n",
       "      <th>1</th>\n",
       "      <td>2</td>\n",
       "      <td>1</td>\n",
       "      <td>27</td>\n",
       "      <td>29.03</td>\n",
       "    </tr>\n",
       "    <tr>\n",
       "      <th>2</th>\n",
       "      <td>3</td>\n",
       "      <td>0</td>\n",
       "      <td>242</td>\n",
       "      <td>64.19</td>\n",
       "    </tr>\n",
       "    <tr>\n",
       "      <th>3</th>\n",
       "      <td>3</td>\n",
       "      <td>1</td>\n",
       "      <td>135</td>\n",
       "      <td>35.81</td>\n",
       "    </tr>\n",
       "    <tr>\n",
       "      <th>4</th>\n",
       "      <td>4</td>\n",
       "      <td>0</td>\n",
       "      <td>345</td>\n",
       "      <td>68.32</td>\n",
       "    </tr>\n",
       "    <tr>\n",
       "      <th>5</th>\n",
       "      <td>4</td>\n",
       "      <td>1</td>\n",
       "      <td>160</td>\n",
       "      <td>31.68</td>\n",
       "    </tr>\n",
       "    <tr>\n",
       "      <th>6</th>\n",
       "      <td>5</td>\n",
       "      <td>0</td>\n",
       "      <td>295</td>\n",
       "      <td>69.25</td>\n",
       "    </tr>\n",
       "    <tr>\n",
       "      <th>7</th>\n",
       "      <td>5</td>\n",
       "      <td>1</td>\n",
       "      <td>131</td>\n",
       "      <td>30.75</td>\n",
       "    </tr>\n",
       "    <tr>\n",
       "      <th>8</th>\n",
       "      <td>6</td>\n",
       "      <td>0</td>\n",
       "      <td>165</td>\n",
       "      <td>56.12</td>\n",
       "    </tr>\n",
       "    <tr>\n",
       "      <th>9</th>\n",
       "      <td>6</td>\n",
       "      <td>1</td>\n",
       "      <td>129</td>\n",
       "      <td>43.88</td>\n",
       "    </tr>\n",
       "    <tr>\n",
       "      <th>10</th>\n",
       "      <td>7</td>\n",
       "      <td>0</td>\n",
       "      <td>97</td>\n",
       "      <td>54.49</td>\n",
       "    </tr>\n",
       "    <tr>\n",
       "      <th>11</th>\n",
       "      <td>7</td>\n",
       "      <td>1</td>\n",
       "      <td>81</td>\n",
       "      <td>45.51</td>\n",
       "    </tr>\n",
       "    <tr>\n",
       "      <th>12</th>\n",
       "      <td>8</td>\n",
       "      <td>0</td>\n",
       "      <td>38</td>\n",
       "      <td>64.41</td>\n",
       "    </tr>\n",
       "    <tr>\n",
       "      <th>13</th>\n",
       "      <td>8</td>\n",
       "      <td>1</td>\n",
       "      <td>21</td>\n",
       "      <td>35.59</td>\n",
       "    </tr>\n",
       "    <tr>\n",
       "      <th>14</th>\n",
       "      <td>9</td>\n",
       "      <td>0</td>\n",
       "      <td>29</td>\n",
       "      <td>52.73</td>\n",
       "    </tr>\n",
       "    <tr>\n",
       "      <th>15</th>\n",
       "      <td>9</td>\n",
       "      <td>1</td>\n",
       "      <td>26</td>\n",
       "      <td>47.27</td>\n",
       "    </tr>\n",
       "  </tbody>\n",
       "</table>\n",
       "</div>"
      ],
      "text/plain": [
       "    FamilyMembers  TravelInsurance  counts  ratio %\n",
       "0               2                0      66    70.97\n",
       "1               2                1      27    29.03\n",
       "2               3                0     242    64.19\n",
       "3               3                1     135    35.81\n",
       "4               4                0     345    68.32\n",
       "5               4                1     160    31.68\n",
       "6               5                0     295    69.25\n",
       "7               5                1     131    30.75\n",
       "8               6                0     165    56.12\n",
       "9               6                1     129    43.88\n",
       "10              7                0      97    54.49\n",
       "11              7                1      81    45.51\n",
       "12              8                0      38    64.41\n",
       "13              8                1      21    35.59\n",
       "14              9                0      29    52.73\n",
       "15              9                1      26    47.27"
      ]
     },
     "execution_count": 36,
     "metadata": {},
     "output_type": "execute_result"
    }
   ],
   "source": [
    "dummy6= df.groupby(['FamilyMembers','TravelInsurance']).size().reset_index(name='counts')\n",
    "dummy6['ratio %'] = [70.97, 29.03, 64.19, 35.81, 68.32, 31.68, 69.25, 30.75, 56.12, 43.88, 54.49, 45.51, 64.41, 35.59, 52.73, 47.27]\n",
    "dummy6"
   ]
  },
  {
   "cell_type": "code",
   "execution_count": 37,
   "id": "d7e4dd17-401b-4238-8bf3-5f68beebb42e",
   "metadata": {},
   "outputs": [
    {
     "data": {
      "text/plain": [
       "Text(0.5, 1.0, 'Travel Insurance Buyers by Family Members')"
      ]
     },
     "execution_count": 37,
     "metadata": {},
     "output_type": "execute_result"
    },
    {
     "data": {
      "image/png": "[encoded data removed]",
      "text/plain": [
       "<Figure size 864x288 with 1 Axes>"
      ]
     },
     "metadata": {
      "needs_background": "light"
     },
     "output_type": "display_data"
    }
   ],
   "source": [
    "sns.histplot(x='FamilyMembers', hue='TravelInsurance', data=df, palette=\"Set2\", multiple='stack')\n",
    "plt.tight_layout()\n",
    "plt.title('Travel Insurance Buyers by Family Members')"
   ]
  },
  {
   "cell_type": "code",
   "execution_count": 38,
   "id": "f2d1f099-d1df-4875-a0ce-d7f3dc2b3081",
   "metadata": {},
   "outputs": [
    {
     "data": {
      "text/plain": [
       "Text(0.5, 1.0, 'Travel Insurance Buyers by Family Members (Ratio)')"
      ]
     },
     "execution_count": 38,
     "metadata": {},
     "output_type": "execute_result"
    },
    {
     "data": {
      "image/png": "[encoded data removed]",
      "text/plain": [
       "<Figure size 864x288 with 1 Axes>"
      ]
     },
     "metadata": {
      "needs_background": "light"
     },
     "output_type": "display_data"
    }
   ],
   "source": [
    "sns.histplot(x='FamilyMembers', hue='TravelInsurance', data=df, palette=\"Set2\", multiple='fill')\n",
    "plt.tight_layout()\n",
    "plt.title('Travel Insurance Buyers by Family Members (Ratio)')"
   ]
  },
  {
   "cell_type": "markdown",
   "id": "277f5d0f-3d7f-4cea-b855-da39e808450c",
   "metadata": {},
   "source": [
    "## Apakah ChronicDiseases merupakan faktor penting?"
   ]
  },
  {
   "cell_type": "code",
   "execution_count": 39,
   "id": "46cae8ae-dfa7-4cfa-8277-dc8b39067ced",
   "metadata": {},
   "outputs": [
    {
     "data": {
      "text/html": [
       "<div>\n",
       "<style scoped>\n",
       "    .dataframe tbody tr th:only-of-type {\n",
       "        vertical-align: middle;\n",
       "    }\n",
       "\n",
       "    .dataframe tbody tr th {\n",
       "        vertical-align: top;\n",
       "    }\n",
       "\n",
       "    .dataframe thead th {\n",
       "        text-align: right;\n",
       "    }\n",
       "</style>\n",
       "<table border=\"1\" class=\"dataframe\">\n",
       "  <thead>\n",
       "    <tr style=\"text-align: right;\">\n",
       "      <th></th>\n",
       "      <th>ChronicDiseases</th>\n",
       "      <th>TravelInsurance</th>\n",
       "      <th>counts</th>\n",
       "      <th>ratio %</th>\n",
       "    </tr>\n",
       "  </thead>\n",
       "  <tbody>\n",
       "    <tr>\n",
       "      <th>0</th>\n",
       "      <td>0</td>\n",
       "      <td>0</td>\n",
       "      <td>930</td>\n",
       "      <td>64.80</td>\n",
       "    </tr>\n",
       "    <tr>\n",
       "      <th>1</th>\n",
       "      <td>0</td>\n",
       "      <td>1</td>\n",
       "      <td>505</td>\n",
       "      <td>35.19</td>\n",
       "    </tr>\n",
       "    <tr>\n",
       "      <th>2</th>\n",
       "      <td>1</td>\n",
       "      <td>0</td>\n",
       "      <td>347</td>\n",
       "      <td>62.86</td>\n",
       "    </tr>\n",
       "    <tr>\n",
       "      <th>3</th>\n",
       "      <td>1</td>\n",
       "      <td>1</td>\n",
       "      <td>205</td>\n",
       "      <td>37.13</td>\n",
       "    </tr>\n",
       "  </tbody>\n",
       "</table>\n",
       "</div>"
      ],
      "text/plain": [
       "   ChronicDiseases  TravelInsurance  counts  ratio %\n",
       "0                0                0     930    64.80\n",
       "1                0                1     505    35.19\n",
       "2                1                0     347    62.86\n",
       "3                1                1     205    37.13"
      ]
     },
     "execution_count": 39,
     "metadata": {},
     "output_type": "execute_result"
    }
   ],
   "source": [
    "dummy7= df.groupby(['ChronicDiseases','TravelInsurance']).size().reset_index(name='counts')\n",
    "dummy7['ratio %'] = [64.80, 35.19, 62.86, 37.13]\n",
    "dummy7"
   ]
  },
  {
   "cell_type": "code",
   "execution_count": 40,
   "id": "d232cfe9-aa41-4995-aedc-7dea1b4edd35",
   "metadata": {},
   "outputs": [
    {
     "data": {
      "text/plain": [
       "Text(0.5, 1.0, 'Travel Insurance Buyers by Chronic Diseases')"
      ]
     },
     "execution_count": 40,
     "metadata": {},
     "output_type": "execute_result"
    },
    {
     "data": {
      "image/png": "[encoded data removed]",
      "text/plain": [
       "<Figure size 864x288 with 1 Axes>"
      ]
     },
     "metadata": {
      "needs_background": "light"
     },
     "output_type": "display_data"
    }
   ],
   "source": [
    "sns.histplot(x='ChronicDiseases', hue='TravelInsurance', data=df, palette=\"Set2\", multiple='stack')\n",
    "plt.tight_layout()\n",
    "plt.title('Travel Insurance Buyers by Chronic Diseases')"
   ]
  },
  {
   "cell_type": "code",
   "execution_count": 41,
   "id": "5228cf02-c816-42f9-88eb-dbc1b1274a4e",
   "metadata": {},
   "outputs": [
    {
     "data": {
      "text/plain": [
       "Text(0.5, 1.0, 'Travel Insurance Buyers by Chronic Disease')"
      ]
     },
     "execution_count": 41,
     "metadata": {},
     "output_type": "execute_result"
    },
    {
     "data": {
      "image/png": "[encoded data removed]",
      "text/plain": [
       "<Figure size 864x288 with 1 Axes>"
      ]
     },
     "metadata": {
      "needs_background": "light"
     },
     "output_type": "display_data"
    }
   ],
   "source": [
    "sns.histplot(x='ChronicDiseases', hue='TravelInsurance', data=df, palette=\"Set2\", multiple='fill')\n",
    "plt.tight_layout()\n",
    "plt.title('Travel Insurance Buyers by Chronic Disease')"
   ]
  },
  {
   "cell_type": "markdown",
   "id": "366ce51a-a6c6-4960-860e-64d125026d82",
   "metadata": {},
   "source": [
    "Insight:\n",
    "- Tidak ada perbedaan yang berarti dalam chronic disease, orang yang memiliki penyakit dan tidak memiliki peluang yang sama dalam pembelian asuransi"
   ]
  },
  {
   "cell_type": "markdown",
   "id": "79c96863-87ff-4e50-82c3-ec5d38b04603",
   "metadata": {},
   "source": [
    "## Apakah FrequentFlyer mempengaruhi pembelian asuransi?"
   ]
  },
  {
   "cell_type": "code",
   "execution_count": 42,
   "id": "b4d64fdc-02d0-4f55-af34-baa87f677db9",
   "metadata": {},
   "outputs": [
    {
     "data": {
      "text/html": [
       "<div>\n",
       "<style scoped>\n",
       "    .dataframe tbody tr th:only-of-type {\n",
       "        vertical-align: middle;\n",
       "    }\n",
       "\n",
       "    .dataframe tbody tr th {\n",
       "        vertical-align: top;\n",
       "    }\n",
       "\n",
       "    .dataframe thead th {\n",
       "        text-align: right;\n",
       "    }\n",
       "</style>\n",
       "<table border=\"1\" class=\"dataframe\">\n",
       "  <thead>\n",
       "    <tr style=\"text-align: right;\">\n",
       "      <th></th>\n",
       "      <th>FrequentFlyer</th>\n",
       "      <th>TravelInsurance</th>\n",
       "      <th>counts</th>\n",
       "      <th>ratio %</th>\n",
       "    </tr>\n",
       "  </thead>\n",
       "  <tbody>\n",
       "    <tr>\n",
       "      <th>0</th>\n",
       "      <td>0</td>\n",
       "      <td>0</td>\n",
       "      <td>1099</td>\n",
       "      <td>70.00</td>\n",
       "    </tr>\n",
       "    <tr>\n",
       "      <th>1</th>\n",
       "      <td>0</td>\n",
       "      <td>1</td>\n",
       "      <td>471</td>\n",
       "      <td>30.00</td>\n",
       "    </tr>\n",
       "    <tr>\n",
       "      <th>2</th>\n",
       "      <td>1</td>\n",
       "      <td>0</td>\n",
       "      <td>178</td>\n",
       "      <td>42.68</td>\n",
       "    </tr>\n",
       "    <tr>\n",
       "      <th>3</th>\n",
       "      <td>1</td>\n",
       "      <td>1</td>\n",
       "      <td>239</td>\n",
       "      <td>57.32</td>\n",
       "    </tr>\n",
       "  </tbody>\n",
       "</table>\n",
       "</div>"
      ],
      "text/plain": [
       "   FrequentFlyer  TravelInsurance  counts  ratio %\n",
       "0              0                0    1099    70.00\n",
       "1              0                1     471    30.00\n",
       "2              1                0     178    42.68\n",
       "3              1                1     239    57.32"
      ]
     },
     "execution_count": 42,
     "metadata": {},
     "output_type": "execute_result"
    }
   ],
   "source": [
    "dummy8= df.groupby(['FrequentFlyer','TravelInsurance']).size().reset_index(name='counts')\n",
    "dummy8['ratio %'] = [70, 30, 42.68, 57.32]\n",
    "dummy8"
   ]
  },
  {
   "cell_type": "code",
   "execution_count": 43,
   "id": "c41f130b-571e-4103-a8e3-615a3dee0f1e",
   "metadata": {},
   "outputs": [
    {
     "data": {
      "text/plain": [
       "Text(0.5, 1.0, 'Travel Insurance Buyers by Frequent Flyer')"
      ]
     },
     "execution_count": 43,
     "metadata": {},
     "output_type": "execute_result"
    },
    {
     "data": {
      "image/png": "[encoded data removed]",
      "text/plain": [
       "<Figure size 864x288 with 1 Axes>"
      ]
     },
     "metadata": {
      "needs_background": "light"
     },
     "output_type": "display_data"
    }
   ],
   "source": [
    "sns.histplot(x='FrequentFlyer', hue='TravelInsurance', data=df, palette=\"YlOrRd\", multiple='stack')\n",
    "plt.tight_layout()\n",
    "plt.title('Travel Insurance Buyers by Frequent Flyer')"
   ]
  },
  {
   "cell_type": "code",
   "execution_count": 44,
   "id": "2bc86615-fdaa-496f-a1b8-1d0a28ebe9e3",
   "metadata": {},
   "outputs": [
    {
     "data": {
      "text/plain": [
       "Text(0.5, 1.0, 'Travel Insurance Buyers by Frequent Flyer (Ratio)')"
      ]
     },
     "execution_count": 44,
     "metadata": {},
     "output_type": "execute_result"
    },
    {
     "data": {
      "image/png": "[encoded data removed]",
      "text/plain": [
       "<Figure size 864x288 with 1 Axes>"
      ]
     },
     "metadata": {
      "needs_background": "light"
     },
     "output_type": "display_data"
    }
   ],
   "source": [
    "sns.histplot(x='FrequentFlyer', hue='TravelInsurance', data=df, palette=\"YlOrRd\", multiple='fill')\n",
    "plt.tight_layout()\n",
    "plt.title('Travel Insurance Buyers by Frequent Flyer (Ratio)')"
   ]
  },
  {
   "cell_type": "markdown",
   "id": "8fe95ab0-a88f-447c-a21b-d03eeb39e866",
   "metadata": {},
   "source": [
    "Insight:\n",
    "- Mereka yang sering terbang, akan lebih mungkin membeli asuransi"
   ]
  },
  {
   "cell_type": "markdown",
   "id": "6195a085-b2ee-434c-b585-3b1735450b77",
   "metadata": {},
   "source": [
    "## Apakah EverTravelledAbroad mempengaruhi pembelian asuransi?"
   ]
  },
  {
   "cell_type": "code",
   "execution_count": 45,
   "id": "e6d06a3d-0f0f-4ae8-a28d-8029cb181d17",
   "metadata": {},
   "outputs": [
    {
     "data": {
      "text/html": [
       "<div>\n",
       "<style scoped>\n",
       "    .dataframe tbody tr th:only-of-type {\n",
       "        vertical-align: middle;\n",
       "    }\n",
       "\n",
       "    .dataframe tbody tr th {\n",
       "        vertical-align: top;\n",
       "    }\n",
       "\n",
       "    .dataframe thead th {\n",
       "        text-align: right;\n",
       "    }\n",
       "</style>\n",
       "<table border=\"1\" class=\"dataframe\">\n",
       "  <thead>\n",
       "    <tr style=\"text-align: right;\">\n",
       "      <th></th>\n",
       "      <th>EverTravelledAbroad</th>\n",
       "      <th>TravelInsurance</th>\n",
       "      <th>counts</th>\n",
       "      <th>ratio %</th>\n",
       "    </tr>\n",
       "  </thead>\n",
       "  <tbody>\n",
       "    <tr>\n",
       "      <th>0</th>\n",
       "      <td>0</td>\n",
       "      <td>0</td>\n",
       "      <td>1195</td>\n",
       "      <td>74.36</td>\n",
       "    </tr>\n",
       "    <tr>\n",
       "      <th>1</th>\n",
       "      <td>0</td>\n",
       "      <td>1</td>\n",
       "      <td>412</td>\n",
       "      <td>25.64</td>\n",
       "    </tr>\n",
       "    <tr>\n",
       "      <th>2</th>\n",
       "      <td>1</td>\n",
       "      <td>0</td>\n",
       "      <td>82</td>\n",
       "      <td>21.57</td>\n",
       "    </tr>\n",
       "    <tr>\n",
       "      <th>3</th>\n",
       "      <td>1</td>\n",
       "      <td>1</td>\n",
       "      <td>298</td>\n",
       "      <td>78.43</td>\n",
       "    </tr>\n",
       "  </tbody>\n",
       "</table>\n",
       "</div>"
      ],
      "text/plain": [
       "   EverTravelledAbroad  TravelInsurance  counts  ratio %\n",
       "0                    0                0    1195    74.36\n",
       "1                    0                1     412    25.64\n",
       "2                    1                0      82    21.57\n",
       "3                    1                1     298    78.43"
      ]
     },
     "execution_count": 45,
     "metadata": {},
     "output_type": "execute_result"
    }
   ],
   "source": [
    "dummy9= df.groupby(['EverTravelledAbroad','TravelInsurance']).size().reset_index(name='counts')\n",
    "dummy9['ratio %'] = [74.36, 25.64, 21.57, 78.43]\n",
    "dummy9"
   ]
  },
  {
   "cell_type": "code",
   "execution_count": 46,
   "id": "f8d371e7-424a-49b9-b011-b32612a367a6",
   "metadata": {},
   "outputs": [
    {
     "data": {
      "text/plain": [
       "Text(0.5, 1.0, 'Travel Insurance Buyers by Ever Travelled Abroad')"
      ]
     },
     "execution_count": 46,
     "metadata": {},
     "output_type": "execute_result"
    },
    {
     "data": {
      "image/png": "[encoded data removed]",
      "text/plain": [
       "<Figure size 864x288 with 1 Axes>"
      ]
     },
     "metadata": {
      "needs_background": "light"
     },
     "output_type": "display_data"
    }
   ],
   "source": [
    "sns.histplot(x='EverTravelledAbroad', hue='TravelInsurance', data=df, palette=\"YlOrRd\", multiple='stack')\n",
    "plt.tight_layout()\n",
    "plt.title('Travel Insurance Buyers by Ever Travelled Abroad')"
   ]
  },
  {
   "cell_type": "code",
   "execution_count": 47,
   "id": "22a7d1ef-3983-4354-875a-94ce5c408bc6",
   "metadata": {},
   "outputs": [
    {
     "data": {
      "image/png": "[encoded data removed]",
      "text/plain": [
       "<Figure size 864x288 with 1 Axes>"
      ]
     },
     "metadata": {
      "needs_background": "light"
     },
     "output_type": "display_data"
    }
   ],
   "source": [
    "sns.histplot(x='EverTravelledAbroad', hue='TravelInsurance', data=df, palette=\"YlOrRd\", multiple='fill')\n",
    "plt.tight_layout()"
   ]
  },
  {
   "cell_type": "markdown",
   "id": "75050a48-da01-406d-a0b0-875a020022a3",
   "metadata": {},
   "source": [
    "Insight:\n",
    "- Orang yang pernah pergi ke luar negeri akan sangat lebih mungkin membeli asuransi (78% vs 25%)"
   ]
  },
  {
   "cell_type": "markdown",
   "id": "5b270cd7-f709-42a6-a74f-8b7bd187724d",
   "metadata": {},
   "source": [
    "# EDA Conclusion\n",
    "Beberapa hal yang kita temukan dari EDA dataset ini adalah:\n",
    "* Data terlihat valid dan tidak ada kecacatan yang major/signifikan\n",
    "* Data tidak terlihat ada yang null\n",
    "* Ada beberapa distribusi yang sedikit *skewed*, hal ini harus diingat apabila kita ingin melakukan sesuatu atau menggunakan model yang memerlukan asumsi distribusi normal\n",
    "* Beberapa *feature* memiliki korelasi yang jelas dengan *target*, mereka akan dipakai\n",
    "* Beberapa *feature* terlihat sama sekali tidak berkorelasi, mereka sebaiknya diabaikan\n",
    "* Ada feature yang korelasinya tinggi satu sama lain (`AnnualIncome`/`EverTravelledAbroad`)"
   ]
  },
  {
   "cell_type": "markdown",
   "id": "6cf3af0d-6d95-4e32-b6dd-19fbb36e3aa5",
   "metadata": {},
   "source": [
    "# Data Cleansing"
   ]
  },
  {
   "cell_type": "markdown",
   "id": "d1379353-7641-40d8-9d19-4b9aaa3c4c6f",
   "metadata": {},
   "source": [
    "- Membuang feature yang tidak penting\n",
    "- Handle missing values \n",
    "- Handle duplicated data (Alya/Ariq)\n",
    "- Handle outliers (Fauzan/Lewis)\n",
    "- Feature transformation (Hafidz/Tidar)\n",
    "- Feature encoding \n",
    "- Handle class imbalance (Alya/Ariq)"
   ]
  },
  {
   "cell_type": "markdown",
   "id": "b60ec83e-ad4e-46af-ac64-b73727fca0e9",
   "metadata": {},
   "source": [
    "## Membuang feature yang tidak penting"
   ]
  },
  {
   "cell_type": "code",
   "execution_count": 48,
   "id": "2f53106e-479d-4a90-900e-aadfe57fb59b",
   "metadata": {},
   "outputs": [
    {
     "data": {
      "text/html": [
       "<div>\n",
       "<style scoped>\n",
       "    .dataframe tbody tr th:only-of-type {\n",
       "        vertical-align: middle;\n",
       "    }\n",
       "\n",
       "    .dataframe tbody tr th {\n",
       "        vertical-align: top;\n",
       "    }\n",
       "\n",
       "    .dataframe thead th {\n",
       "        text-align: right;\n",
       "    }\n",
       "</style>\n",
       "<table border=\"1\" class=\"dataframe\">\n",
       "  <thead>\n",
       "    <tr style=\"text-align: right;\">\n",
       "      <th></th>\n",
       "      <th>Age</th>\n",
       "      <th>Employment Type</th>\n",
       "      <th>GraduateOrNot</th>\n",
       "      <th>AnnualIncome</th>\n",
       "      <th>FamilyMembers</th>\n",
       "      <th>ChronicDiseases</th>\n",
       "      <th>FrequentFlyer</th>\n",
       "      <th>EverTravelledAbroad</th>\n",
       "      <th>TravelInsurance</th>\n",
       "    </tr>\n",
       "  </thead>\n",
       "  <tbody>\n",
       "    <tr>\n",
       "      <th>0</th>\n",
       "      <td>31</td>\n",
       "      <td>0</td>\n",
       "      <td>1</td>\n",
       "      <td>400000</td>\n",
       "      <td>6</td>\n",
       "      <td>1</td>\n",
       "      <td>0</td>\n",
       "      <td>0</td>\n",
       "      <td>0</td>\n",
       "    </tr>\n",
       "    <tr>\n",
       "      <th>1</th>\n",
       "      <td>31</td>\n",
       "      <td>1</td>\n",
       "      <td>1</td>\n",
       "      <td>1250000</td>\n",
       "      <td>7</td>\n",
       "      <td>0</td>\n",
       "      <td>0</td>\n",
       "      <td>0</td>\n",
       "      <td>0</td>\n",
       "    </tr>\n",
       "    <tr>\n",
       "      <th>2</th>\n",
       "      <td>34</td>\n",
       "      <td>1</td>\n",
       "      <td>1</td>\n",
       "      <td>500000</td>\n",
       "      <td>4</td>\n",
       "      <td>1</td>\n",
       "      <td>0</td>\n",
       "      <td>0</td>\n",
       "      <td>1</td>\n",
       "    </tr>\n",
       "    <tr>\n",
       "      <th>3</th>\n",
       "      <td>28</td>\n",
       "      <td>1</td>\n",
       "      <td>1</td>\n",
       "      <td>700000</td>\n",
       "      <td>3</td>\n",
       "      <td>1</td>\n",
       "      <td>0</td>\n",
       "      <td>0</td>\n",
       "      <td>0</td>\n",
       "    </tr>\n",
       "    <tr>\n",
       "      <th>4</th>\n",
       "      <td>28</td>\n",
       "      <td>1</td>\n",
       "      <td>1</td>\n",
       "      <td>700000</td>\n",
       "      <td>8</td>\n",
       "      <td>1</td>\n",
       "      <td>1</td>\n",
       "      <td>0</td>\n",
       "      <td>0</td>\n",
       "    </tr>\n",
       "  </tbody>\n",
       "</table>\n",
       "</div>"
      ],
      "text/plain": [
       "   Age  Employment Type  GraduateOrNot  AnnualIncome  FamilyMembers  \\\n",
       "0   31                0              1        400000              6   \n",
       "1   31                1              1       1250000              7   \n",
       "2   34                1              1        500000              4   \n",
       "3   28                1              1        700000              3   \n",
       "4   28                1              1        700000              8   \n",
       "\n",
       "   ChronicDiseases  FrequentFlyer  EverTravelledAbroad  TravelInsurance  \n",
       "0                1              0                    0                0  \n",
       "1                0              0                    0                0  \n",
       "2                1              0                    0                1  \n",
       "3                1              0                    0                0  \n",
       "4                1              1                    0                0  "
      ]
     },
     "execution_count": 48,
     "metadata": {},
     "output_type": "execute_result"
    }
   ],
   "source": [
    "df.drop(columns=['Unnamed: 0'],inplace=True)\n",
    "df.head()"
   ]
  },
  {
   "cell_type": "markdown",
   "id": "9f062a5e-0a63-40a3-86a3-576585487181",
   "metadata": {},
   "source": [
    "## Handle Missing Value"
   ]
  },
  {
   "cell_type": "code",
   "execution_count": 49,
   "id": "c09a2ed6-932f-49d2-a79b-2026d7a266ff",
   "metadata": {},
   "outputs": [
    {
     "data": {
      "text/plain": [
       "Age                    0\n",
       "Employment Type        0\n",
       "GraduateOrNot          0\n",
       "AnnualIncome           0\n",
       "FamilyMembers          0\n",
       "ChronicDiseases        0\n",
       "FrequentFlyer          0\n",
       "EverTravelledAbroad    0\n",
       "TravelInsurance        0\n",
       "dtype: int64"
      ]
     },
     "execution_count": 49,
     "metadata": {},
     "output_type": "execute_result"
    }
   ],
   "source": [
    "df.isna().sum()"
   ]
  },
  {
   "cell_type": "markdown",
   "id": "86941fd1-0f0e-4046-94d1-560b38a1c5fd",
   "metadata": {},
   "source": [
    "Data terlihat tidak ada missing value"
   ]
  },
  {
   "cell_type": "markdown",
   "id": "1015eceb-3cd6-4072-b40f-1f0c0cb8bc73",
   "metadata": {},
   "source": [
    "## Handle duplicated data"
   ]
  },
  {
   "cell_type": "code",
   "execution_count": 50,
   "id": "386a42df-c9b9-4f2f-bdd3-1c10de14a415",
   "metadata": {},
   "outputs": [
    {
     "data": {
      "text/plain": [
       "738"
      ]
     },
     "execution_count": 50,
     "metadata": {},
     "output_type": "execute_result"
    }
   ],
   "source": [
    "df.duplicated().sum()"
   ]
  },
  {
   "cell_type": "code",
   "execution_count": 51,
   "id": "4e26d6bf-d8df-4486-bd19-67573ba8f8b5",
   "metadata": {},
   "outputs": [
    {
     "name": "stdout",
     "output_type": "stream",
     "text": [
      "738\n",
      "0\n"
     ]
    }
   ],
   "source": [
    "print(df.duplicated().sum())\n",
    "df.drop_duplicates(inplace=True) \n",
    "print(df.duplicated().sum())"
   ]
  },
  {
   "cell_type": "code",
   "execution_count": 52,
   "id": "dcb87b46-8bc6-4860-be12-038fd3ac8303",
   "metadata": {},
   "outputs": [
    {
     "name": "stdout",
     "output_type": "stream",
     "text": [
      "<class 'pandas.core.frame.DataFrame'>\n",
      "Int64Index: 1249 entries, 0 to 1985\n",
      "Data columns (total 9 columns):\n",
      " #   Column               Non-Null Count  Dtype\n",
      "---  ------               --------------  -----\n",
      " 0   Age                  1249 non-null   int64\n",
      " 1   Employment Type      1249 non-null   int64\n",
      " 2   GraduateOrNot        1249 non-null   int64\n",
      " 3   AnnualIncome         1249 non-null   int64\n",
      " 4   FamilyMembers        1249 non-null   int64\n",
      " 5   ChronicDiseases      1249 non-null   int64\n",
      " 6   FrequentFlyer        1249 non-null   int64\n",
      " 7   EverTravelledAbroad  1249 non-null   int64\n",
      " 8   TravelInsurance      1249 non-null   int64\n",
      "dtypes: int64(9)\n",
      "memory usage: 97.6 KB\n"
     ]
    }
   ],
   "source": [
    "df.info()"
   ]
  },
  {
   "cell_type": "markdown",
   "id": "e63a7b2c-5099-4878-9c2f-98e1709feb7c",
   "metadata": {},
   "source": [
    "Data terlihat sudah tidak ada duplikat"
   ]
  },
  {
   "cell_type": "markdown",
   "id": "10cde3e6-cf8c-4848-9f54-fe73f9b66df3",
   "metadata": {},
   "source": [
    "## Handle Outliers"
   ]
  },
  {
   "cell_type": "code",
   "execution_count": 53,
   "id": "3718b4a2-b4f5-48a0-b3a7-0f2974606f06",
   "metadata": {},
   "outputs": [
    {
     "name": "stdout",
     "output_type": "stream",
     "text": [
      "Jumlah baris sebelum memfilter outlier: 1249\n",
      "Jumlah baris setelah memfilter outlier: 1249\n"
     ]
    }
   ],
   "source": [
    "print(f'Jumlah baris sebelum memfilter outlier: {len(df)}')\n",
    "\n",
    "filtered_entries = np.array([True] * len(df))\n",
    "\n",
    "for col in nums:\n",
    "    zscore = abs(stats.zscore(df[col])) # hitung absolute z-scorenya\n",
    "    filtered_entries = (zscore < 3) & filtered_entries # keep yang kurang dari 3 absolute z-scorenya\n",
    "    \n",
    "df = df[filtered_entries] # filter, cuma ambil yang z-scorenya dibawah 3\n",
    "\n",
    "print(f'Jumlah baris setelah memfilter outlier: {len(df)}')"
   ]
  },
  {
   "cell_type": "markdown",
   "id": "d5d0db9e-09b1-400b-9f8d-ff733bd7082f",
   "metadata": {},
   "source": [
    "Handle outlier dilakukan dengan metode Z-Score dan dari hasilnya tidak terdapat data yang outlier"
   ]
  },
  {
   "cell_type": "markdown",
   "id": "1c178acb-94f8-4169-a871-44a93a35f18e",
   "metadata": {},
   "source": [
    "## Feature transformation"
   ]
  },
  {
   "cell_type": "code",
   "execution_count": 54,
   "id": "7e34d48a-811c-4c40-80d9-2c81c100d4e5",
   "metadata": {},
   "outputs": [
    {
     "data": {
      "text/html": [
       "<div>\n",
       "<style scoped>\n",
       "    .dataframe tbody tr th:only-of-type {\n",
       "        vertical-align: middle;\n",
       "    }\n",
       "\n",
       "    .dataframe tbody tr th {\n",
       "        vertical-align: top;\n",
       "    }\n",
       "\n",
       "    .dataframe thead th {\n",
       "        text-align: right;\n",
       "    }\n",
       "</style>\n",
       "<table border=\"1\" class=\"dataframe\">\n",
       "  <thead>\n",
       "    <tr style=\"text-align: right;\">\n",
       "      <th></th>\n",
       "      <th>Age</th>\n",
       "      <th>Employment Type</th>\n",
       "      <th>GraduateOrNot</th>\n",
       "      <th>AnnualIncome</th>\n",
       "      <th>FamilyMembers</th>\n",
       "      <th>ChronicDiseases</th>\n",
       "      <th>FrequentFlyer</th>\n",
       "      <th>EverTravelledAbroad</th>\n",
       "      <th>TravelInsurance</th>\n",
       "    </tr>\n",
       "  </thead>\n",
       "  <tbody>\n",
       "    <tr>\n",
       "      <th>1829</th>\n",
       "      <td>31</td>\n",
       "      <td>1</td>\n",
       "      <td>1</td>\n",
       "      <td>1400000</td>\n",
       "      <td>4</td>\n",
       "      <td>1</td>\n",
       "      <td>0</td>\n",
       "      <td>1</td>\n",
       "      <td>1</td>\n",
       "    </tr>\n",
       "    <tr>\n",
       "      <th>1302</th>\n",
       "      <td>28</td>\n",
       "      <td>1</td>\n",
       "      <td>0</td>\n",
       "      <td>550000</td>\n",
       "      <td>3</td>\n",
       "      <td>0</td>\n",
       "      <td>0</td>\n",
       "      <td>0</td>\n",
       "      <td>1</td>\n",
       "    </tr>\n",
       "    <tr>\n",
       "      <th>844</th>\n",
       "      <td>33</td>\n",
       "      <td>0</td>\n",
       "      <td>1</td>\n",
       "      <td>1100000</td>\n",
       "      <td>2</td>\n",
       "      <td>0</td>\n",
       "      <td>0</td>\n",
       "      <td>0</td>\n",
       "      <td>0</td>\n",
       "    </tr>\n",
       "    <tr>\n",
       "      <th>296</th>\n",
       "      <td>32</td>\n",
       "      <td>0</td>\n",
       "      <td>1</td>\n",
       "      <td>350000</td>\n",
       "      <td>7</td>\n",
       "      <td>0</td>\n",
       "      <td>0</td>\n",
       "      <td>0</td>\n",
       "      <td>0</td>\n",
       "    </tr>\n",
       "  </tbody>\n",
       "</table>\n",
       "</div>"
      ],
      "text/plain": [
       "      Age  Employment Type  GraduateOrNot  AnnualIncome  FamilyMembers  \\\n",
       "1829   31                1              1       1400000              4   \n",
       "1302   28                1              0        550000              3   \n",
       "844    33                0              1       1100000              2   \n",
       "296    32                0              1        350000              7   \n",
       "\n",
       "      ChronicDiseases  FrequentFlyer  EverTravelledAbroad  TravelInsurance  \n",
       "1829                1              0                    1                1  \n",
       "1302                0              0                    0                1  \n",
       "844                 0              0                    0                0  \n",
       "296                 0              0                    0                0  "
      ]
     },
     "execution_count": 54,
     "metadata": {},
     "output_type": "execute_result"
    }
   ],
   "source": [
    "df.sample(4)"
   ]
  },
  {
   "cell_type": "code",
   "execution_count": 55,
   "id": "afc868f7-0db7-4a98-bd32-81a38164a7ff",
   "metadata": {},
   "outputs": [
    {
     "data": {
      "text/html": [
       "<div>\n",
       "<style scoped>\n",
       "    .dataframe tbody tr th:only-of-type {\n",
       "        vertical-align: middle;\n",
       "    }\n",
       "\n",
       "    .dataframe tbody tr th {\n",
       "        vertical-align: top;\n",
       "    }\n",
       "\n",
       "    .dataframe thead th {\n",
       "        text-align: right;\n",
       "    }\n",
       "</style>\n",
       "<table border=\"1\" class=\"dataframe\">\n",
       "  <thead>\n",
       "    <tr style=\"text-align: right;\">\n",
       "      <th></th>\n",
       "      <th>Age</th>\n",
       "      <th>Employment Type</th>\n",
       "      <th>GraduateOrNot</th>\n",
       "      <th>AnnualIncome</th>\n",
       "      <th>FamilyMembers</th>\n",
       "      <th>ChronicDiseases</th>\n",
       "      <th>FrequentFlyer</th>\n",
       "      <th>EverTravelledAbroad</th>\n",
       "      <th>TravelInsurance</th>\n",
       "    </tr>\n",
       "  </thead>\n",
       "  <tbody>\n",
       "    <tr>\n",
       "      <th>count</th>\n",
       "      <td>1249.000000</td>\n",
       "      <td>1249.000000</td>\n",
       "      <td>1249.000000</td>\n",
       "      <td>1.249000e+03</td>\n",
       "      <td>1249.000000</td>\n",
       "      <td>1249.000000</td>\n",
       "      <td>1249.000000</td>\n",
       "      <td>1249.000000</td>\n",
       "      <td>1249.000000</td>\n",
       "    </tr>\n",
       "    <tr>\n",
       "      <th>mean</th>\n",
       "      <td>29.755805</td>\n",
       "      <td>0.701361</td>\n",
       "      <td>0.838271</td>\n",
       "      <td>9.345476e+05</td>\n",
       "      <td>4.890312</td>\n",
       "      <td>0.333066</td>\n",
       "      <td>0.236189</td>\n",
       "      <td>0.195356</td>\n",
       "      <td>0.386709</td>\n",
       "    </tr>\n",
       "    <tr>\n",
       "      <th>std</th>\n",
       "      <td>2.921039</td>\n",
       "      <td>0.457844</td>\n",
       "      <td>0.368350</td>\n",
       "      <td>3.607293e+05</td>\n",
       "      <td>1.762313</td>\n",
       "      <td>0.471499</td>\n",
       "      <td>0.424910</td>\n",
       "      <td>0.396634</td>\n",
       "      <td>0.487191</td>\n",
       "    </tr>\n",
       "    <tr>\n",
       "      <th>min</th>\n",
       "      <td>25.000000</td>\n",
       "      <td>0.000000</td>\n",
       "      <td>0.000000</td>\n",
       "      <td>3.000000e+05</td>\n",
       "      <td>2.000000</td>\n",
       "      <td>0.000000</td>\n",
       "      <td>0.000000</td>\n",
       "      <td>0.000000</td>\n",
       "      <td>0.000000</td>\n",
       "    </tr>\n",
       "    <tr>\n",
       "      <th>25%</th>\n",
       "      <td>28.000000</td>\n",
       "      <td>0.000000</td>\n",
       "      <td>1.000000</td>\n",
       "      <td>6.000000e+05</td>\n",
       "      <td>4.000000</td>\n",
       "      <td>0.000000</td>\n",
       "      <td>0.000000</td>\n",
       "      <td>0.000000</td>\n",
       "      <td>0.000000</td>\n",
       "    </tr>\n",
       "    <tr>\n",
       "      <th>50%</th>\n",
       "      <td>29.000000</td>\n",
       "      <td>1.000000</td>\n",
       "      <td>1.000000</td>\n",
       "      <td>9.000000e+05</td>\n",
       "      <td>5.000000</td>\n",
       "      <td>0.000000</td>\n",
       "      <td>0.000000</td>\n",
       "      <td>0.000000</td>\n",
       "      <td>0.000000</td>\n",
       "    </tr>\n",
       "    <tr>\n",
       "      <th>75%</th>\n",
       "      <td>32.000000</td>\n",
       "      <td>1.000000</td>\n",
       "      <td>1.000000</td>\n",
       "      <td>1.200000e+06</td>\n",
       "      <td>6.000000</td>\n",
       "      <td>1.000000</td>\n",
       "      <td>0.000000</td>\n",
       "      <td>0.000000</td>\n",
       "      <td>1.000000</td>\n",
       "    </tr>\n",
       "    <tr>\n",
       "      <th>max</th>\n",
       "      <td>35.000000</td>\n",
       "      <td>1.000000</td>\n",
       "      <td>1.000000</td>\n",
       "      <td>1.800000e+06</td>\n",
       "      <td>9.000000</td>\n",
       "      <td>1.000000</td>\n",
       "      <td>1.000000</td>\n",
       "      <td>1.000000</td>\n",
       "      <td>1.000000</td>\n",
       "    </tr>\n",
       "  </tbody>\n",
       "</table>\n",
       "</div>"
      ],
      "text/plain": [
       "               Age  Employment Type  GraduateOrNot  AnnualIncome  \\\n",
       "count  1249.000000      1249.000000    1249.000000  1.249000e+03   \n",
       "mean     29.755805         0.701361       0.838271  9.345476e+05   \n",
       "std       2.921039         0.457844       0.368350  3.607293e+05   \n",
       "min      25.000000         0.000000       0.000000  3.000000e+05   \n",
       "25%      28.000000         0.000000       1.000000  6.000000e+05   \n",
       "50%      29.000000         1.000000       1.000000  9.000000e+05   \n",
       "75%      32.000000         1.000000       1.000000  1.200000e+06   \n",
       "max      35.000000         1.000000       1.000000  1.800000e+06   \n",
       "\n",
       "       FamilyMembers  ChronicDiseases  FrequentFlyer  EverTravelledAbroad  \\\n",
       "count    1249.000000      1249.000000    1249.000000          1249.000000   \n",
       "mean        4.890312         0.333066       0.236189             0.195356   \n",
       "std         1.762313         0.471499       0.424910             0.396634   \n",
       "min         2.000000         0.000000       0.000000             0.000000   \n",
       "25%         4.000000         0.000000       0.000000             0.000000   \n",
       "50%         5.000000         0.000000       0.000000             0.000000   \n",
       "75%         6.000000         1.000000       0.000000             0.000000   \n",
       "max         9.000000         1.000000       1.000000             1.000000   \n",
       "\n",
       "       TravelInsurance  \n",
       "count      1249.000000  \n",
       "mean          0.386709  \n",
       "std           0.487191  \n",
       "min           0.000000  \n",
       "25%           0.000000  \n",
       "50%           0.000000  \n",
       "75%           1.000000  \n",
       "max           1.000000  "
      ]
     },
     "execution_count": 55,
     "metadata": {},
     "output_type": "execute_result"
    }
   ],
   "source": [
    "df.describe()"
   ]
  },
  {
   "cell_type": "markdown",
   "id": "a1f3bc98-23d9-4f83-bc28-5300830adfdc",
   "metadata": {},
   "source": [
    "### Normalization"
   ]
  },
  {
   "cell_type": "code",
   "execution_count": 56,
   "id": "46c2a1e5-4c6d-4618-a58c-2909205141a5",
   "metadata": {},
   "outputs": [
    {
     "name": "stdout",
     "output_type": "stream",
     "text": [
      "['Age', 'AnnualIncome', 'FamilyMembers']\n"
     ]
    }
   ],
   "source": [
    "list_col_abnormal = []\n",
    "\n",
    "for i in df:\n",
    "  if df[i].min() != 0 and df[i].max() != 1:\n",
    "    list_col_abnormal.append(i)\n",
    "\n",
    "print(list_col_abnormal)"
   ]
  },
  {
   "cell_type": "code",
   "execution_count": 57,
   "id": "a71bb037-daff-49a8-87cd-a7174219cf3b",
   "metadata": {},
   "outputs": [
    {
     "data": {
      "text/html": [
       "<div>\n",
       "<style scoped>\n",
       "    .dataframe tbody tr th:only-of-type {\n",
       "        vertical-align: middle;\n",
       "    }\n",
       "\n",
       "    .dataframe tbody tr th {\n",
       "        vertical-align: top;\n",
       "    }\n",
       "\n",
       "    .dataframe thead th {\n",
       "        text-align: right;\n",
       "    }\n",
       "</style>\n",
       "<table border=\"1\" class=\"dataframe\">\n",
       "  <thead>\n",
       "    <tr style=\"text-align: right;\">\n",
       "      <th></th>\n",
       "      <th>Age</th>\n",
       "      <th>AnnualIncome</th>\n",
       "      <th>FamilyMembers</th>\n",
       "    </tr>\n",
       "  </thead>\n",
       "  <tbody>\n",
       "    <tr>\n",
       "      <th>count</th>\n",
       "      <td>1249.000000</td>\n",
       "      <td>1.249000e+03</td>\n",
       "      <td>1249.000000</td>\n",
       "    </tr>\n",
       "    <tr>\n",
       "      <th>mean</th>\n",
       "      <td>29.755805</td>\n",
       "      <td>9.345476e+05</td>\n",
       "      <td>4.890312</td>\n",
       "    </tr>\n",
       "    <tr>\n",
       "      <th>std</th>\n",
       "      <td>2.921039</td>\n",
       "      <td>3.607293e+05</td>\n",
       "      <td>1.762313</td>\n",
       "    </tr>\n",
       "    <tr>\n",
       "      <th>min</th>\n",
       "      <td>25.000000</td>\n",
       "      <td>3.000000e+05</td>\n",
       "      <td>2.000000</td>\n",
       "    </tr>\n",
       "    <tr>\n",
       "      <th>25%</th>\n",
       "      <td>28.000000</td>\n",
       "      <td>6.000000e+05</td>\n",
       "      <td>4.000000</td>\n",
       "    </tr>\n",
       "    <tr>\n",
       "      <th>50%</th>\n",
       "      <td>29.000000</td>\n",
       "      <td>9.000000e+05</td>\n",
       "      <td>5.000000</td>\n",
       "    </tr>\n",
       "    <tr>\n",
       "      <th>75%</th>\n",
       "      <td>32.000000</td>\n",
       "      <td>1.200000e+06</td>\n",
       "      <td>6.000000</td>\n",
       "    </tr>\n",
       "    <tr>\n",
       "      <th>max</th>\n",
       "      <td>35.000000</td>\n",
       "      <td>1.800000e+06</td>\n",
       "      <td>9.000000</td>\n",
       "    </tr>\n",
       "  </tbody>\n",
       "</table>\n",
       "</div>"
      ],
      "text/plain": [
       "               Age  AnnualIncome  FamilyMembers\n",
       "count  1249.000000  1.249000e+03    1249.000000\n",
       "mean     29.755805  9.345476e+05       4.890312\n",
       "std       2.921039  3.607293e+05       1.762313\n",
       "min      25.000000  3.000000e+05       2.000000\n",
       "25%      28.000000  6.000000e+05       4.000000\n",
       "50%      29.000000  9.000000e+05       5.000000\n",
       "75%      32.000000  1.200000e+06       6.000000\n",
       "max      35.000000  1.800000e+06       9.000000"
      ]
     },
     "execution_count": 57,
     "metadata": {},
     "output_type": "execute_result"
    }
   ],
   "source": [
    "# Cek nilai min dan max pada column tersebut, apakah benar tidak 0 s/d 1?\n",
    "df[list_col_abnormal].describe()"
   ]
  },
  {
   "cell_type": "code",
   "execution_count": 58,
   "id": "57831b6f-6c13-4163-9f92-ba4193df2f0b",
   "metadata": {},
   "outputs": [],
   "source": [
    "from sklearn.preprocessing import MinMaxScaler\n",
    "for i in list_col_abnormal:\n",
    "      df[i] = MinMaxScaler().fit_transform(df[i].values.reshape(len(df),1))"
   ]
  },
  {
   "cell_type": "code",
   "execution_count": 59,
   "id": "47407ac0-9d1c-4f31-961f-e39f1b1a6976",
   "metadata": {},
   "outputs": [
    {
     "data": {
      "text/html": [
       "<div>\n",
       "<style scoped>\n",
       "    .dataframe tbody tr th:only-of-type {\n",
       "        vertical-align: middle;\n",
       "    }\n",
       "\n",
       "    .dataframe tbody tr th {\n",
       "        vertical-align: top;\n",
       "    }\n",
       "\n",
       "    .dataframe thead th {\n",
       "        text-align: right;\n",
       "    }\n",
       "</style>\n",
       "<table border=\"1\" class=\"dataframe\">\n",
       "  <thead>\n",
       "    <tr style=\"text-align: right;\">\n",
       "      <th></th>\n",
       "      <th>Age</th>\n",
       "      <th>Employment Type</th>\n",
       "      <th>GraduateOrNot</th>\n",
       "      <th>AnnualIncome</th>\n",
       "      <th>FamilyMembers</th>\n",
       "      <th>ChronicDiseases</th>\n",
       "      <th>FrequentFlyer</th>\n",
       "      <th>EverTravelledAbroad</th>\n",
       "      <th>TravelInsurance</th>\n",
       "    </tr>\n",
       "  </thead>\n",
       "  <tbody>\n",
       "    <tr>\n",
       "      <th>count</th>\n",
       "      <td>1249.000000</td>\n",
       "      <td>1249.000000</td>\n",
       "      <td>1249.000000</td>\n",
       "      <td>1249.000000</td>\n",
       "      <td>1249.000000</td>\n",
       "      <td>1249.000000</td>\n",
       "      <td>1249.000000</td>\n",
       "      <td>1249.000000</td>\n",
       "      <td>1249.000000</td>\n",
       "    </tr>\n",
       "    <tr>\n",
       "      <th>mean</th>\n",
       "      <td>0.475580</td>\n",
       "      <td>0.701361</td>\n",
       "      <td>0.838271</td>\n",
       "      <td>0.423032</td>\n",
       "      <td>0.412902</td>\n",
       "      <td>0.333066</td>\n",
       "      <td>0.236189</td>\n",
       "      <td>0.195356</td>\n",
       "      <td>0.386709</td>\n",
       "    </tr>\n",
       "    <tr>\n",
       "      <th>std</th>\n",
       "      <td>0.292104</td>\n",
       "      <td>0.457844</td>\n",
       "      <td>0.368350</td>\n",
       "      <td>0.240486</td>\n",
       "      <td>0.251759</td>\n",
       "      <td>0.471499</td>\n",
       "      <td>0.424910</td>\n",
       "      <td>0.396634</td>\n",
       "      <td>0.487191</td>\n",
       "    </tr>\n",
       "    <tr>\n",
       "      <th>min</th>\n",
       "      <td>0.000000</td>\n",
       "      <td>0.000000</td>\n",
       "      <td>0.000000</td>\n",
       "      <td>0.000000</td>\n",
       "      <td>0.000000</td>\n",
       "      <td>0.000000</td>\n",
       "      <td>0.000000</td>\n",
       "      <td>0.000000</td>\n",
       "      <td>0.000000</td>\n",
       "    </tr>\n",
       "    <tr>\n",
       "      <th>25%</th>\n",
       "      <td>0.300000</td>\n",
       "      <td>0.000000</td>\n",
       "      <td>1.000000</td>\n",
       "      <td>0.200000</td>\n",
       "      <td>0.285714</td>\n",
       "      <td>0.000000</td>\n",
       "      <td>0.000000</td>\n",
       "      <td>0.000000</td>\n",
       "      <td>0.000000</td>\n",
       "    </tr>\n",
       "    <tr>\n",
       "      <th>50%</th>\n",
       "      <td>0.400000</td>\n",
       "      <td>1.000000</td>\n",
       "      <td>1.000000</td>\n",
       "      <td>0.400000</td>\n",
       "      <td>0.428571</td>\n",
       "      <td>0.000000</td>\n",
       "      <td>0.000000</td>\n",
       "      <td>0.000000</td>\n",
       "      <td>0.000000</td>\n",
       "    </tr>\n",
       "    <tr>\n",
       "      <th>75%</th>\n",
       "      <td>0.700000</td>\n",
       "      <td>1.000000</td>\n",
       "      <td>1.000000</td>\n",
       "      <td>0.600000</td>\n",
       "      <td>0.571429</td>\n",
       "      <td>1.000000</td>\n",
       "      <td>0.000000</td>\n",
       "      <td>0.000000</td>\n",
       "      <td>1.000000</td>\n",
       "    </tr>\n",
       "    <tr>\n",
       "      <th>max</th>\n",
       "      <td>1.000000</td>\n",
       "      <td>1.000000</td>\n",
       "      <td>1.000000</td>\n",
       "      <td>1.000000</td>\n",
       "      <td>1.000000</td>\n",
       "      <td>1.000000</td>\n",
       "      <td>1.000000</td>\n",
       "      <td>1.000000</td>\n",
       "      <td>1.000000</td>\n",
       "    </tr>\n",
       "  </tbody>\n",
       "</table>\n",
       "</div>"
      ],
      "text/plain": [
       "               Age  Employment Type  GraduateOrNot  AnnualIncome  \\\n",
       "count  1249.000000      1249.000000    1249.000000   1249.000000   \n",
       "mean      0.475580         0.701361       0.838271      0.423032   \n",
       "std       0.292104         0.457844       0.368350      0.240486   \n",
       "min       0.000000         0.000000       0.000000      0.000000   \n",
       "25%       0.300000         0.000000       1.000000      0.200000   \n",
       "50%       0.400000         1.000000       1.000000      0.400000   \n",
       "75%       0.700000         1.000000       1.000000      0.600000   \n",
       "max       1.000000         1.000000       1.000000      1.000000   \n",
       "\n",
       "       FamilyMembers  ChronicDiseases  FrequentFlyer  EverTravelledAbroad  \\\n",
       "count    1249.000000      1249.000000    1249.000000          1249.000000   \n",
       "mean        0.412902         0.333066       0.236189             0.195356   \n",
       "std         0.251759         0.471499       0.424910             0.396634   \n",
       "min         0.000000         0.000000       0.000000             0.000000   \n",
       "25%         0.285714         0.000000       0.000000             0.000000   \n",
       "50%         0.428571         0.000000       0.000000             0.000000   \n",
       "75%         0.571429         1.000000       0.000000             0.000000   \n",
       "max         1.000000         1.000000       1.000000             1.000000   \n",
       "\n",
       "       TravelInsurance  \n",
       "count      1249.000000  \n",
       "mean          0.386709  \n",
       "std           0.487191  \n",
       "min           0.000000  \n",
       "25%           0.000000  \n",
       "50%           0.000000  \n",
       "75%           1.000000  \n",
       "max           1.000000  "
      ]
     },
     "execution_count": 59,
     "metadata": {},
     "output_type": "execute_result"
    }
   ],
   "source": [
    "# Setelah di normalisasi, semua data memiliki skala min dan max yang sama. 0 s/d 1\n",
    "df.describe()"
   ]
  },
  {
   "cell_type": "markdown",
   "id": "c9868fd4-672e-44c5-86a0-6f02261943ef",
   "metadata": {},
   "source": [
    "### Standarization"
   ]
  },
  {
   "cell_type": "code",
   "execution_count": 60,
   "id": "0415bd6d-4e96-40c2-9c2f-1bf5ae2cd2bf",
   "metadata": {},
   "outputs": [],
   "source": [
    "from sklearn.preprocessing import StandardScaler"
   ]
  },
  {
   "cell_type": "code",
   "execution_count": 61,
   "id": "d924d618-034b-44a2-a34f-a11994098d62",
   "metadata": {},
   "outputs": [],
   "source": [
    "for i in df.columns.tolist()[:-1]:\n",
    "      df[i] = StandardScaler().fit_transform(df[i].values.reshape(len(df),1))"
   ]
  },
  {
   "cell_type": "code",
   "execution_count": 62,
   "id": "01b74985-f6d6-4605-b9db-987a99b18c8c",
   "metadata": {},
   "outputs": [
    {
     "data": {
      "text/html": [
       "<div>\n",
       "<style scoped>\n",
       "    .dataframe tbody tr th:only-of-type {\n",
       "        vertical-align: middle;\n",
       "    }\n",
       "\n",
       "    .dataframe tbody tr th {\n",
       "        vertical-align: top;\n",
       "    }\n",
       "\n",
       "    .dataframe thead th {\n",
       "        text-align: right;\n",
       "    }\n",
       "</style>\n",
       "<table border=\"1\" class=\"dataframe\">\n",
       "  <thead>\n",
       "    <tr style=\"text-align: right;\">\n",
       "      <th></th>\n",
       "      <th>Age</th>\n",
       "      <th>Employment Type</th>\n",
       "      <th>GraduateOrNot</th>\n",
       "      <th>AnnualIncome</th>\n",
       "      <th>FamilyMembers</th>\n",
       "      <th>ChronicDiseases</th>\n",
       "      <th>FrequentFlyer</th>\n",
       "      <th>EverTravelledAbroad</th>\n",
       "      <th>TravelInsurance</th>\n",
       "    </tr>\n",
       "  </thead>\n",
       "  <tbody>\n",
       "    <tr>\n",
       "      <th>count</th>\n",
       "      <td>1.249000e+03</td>\n",
       "      <td>1.249000e+03</td>\n",
       "      <td>1.249000e+03</td>\n",
       "      <td>1.249000e+03</td>\n",
       "      <td>1.249000e+03</td>\n",
       "      <td>1.249000e+03</td>\n",
       "      <td>1.249000e+03</td>\n",
       "      <td>1.249000e+03</td>\n",
       "      <td>1249.000000</td>\n",
       "    </tr>\n",
       "    <tr>\n",
       "      <th>mean</th>\n",
       "      <td>1.850668e-16</td>\n",
       "      <td>2.522668e-16</td>\n",
       "      <td>1.982224e-17</td>\n",
       "      <td>1.811112e-17</td>\n",
       "      <td>-9.697785e-17</td>\n",
       "      <td>-6.033782e-16</td>\n",
       "      <td>-2.092446e-16</td>\n",
       "      <td>1.088001e-16</td>\n",
       "      <td>0.386709</td>\n",
       "    </tr>\n",
       "    <tr>\n",
       "      <th>std</th>\n",
       "      <td>1.000401e+00</td>\n",
       "      <td>1.000401e+00</td>\n",
       "      <td>1.000401e+00</td>\n",
       "      <td>1.000401e+00</td>\n",
       "      <td>1.000401e+00</td>\n",
       "      <td>1.000401e+00</td>\n",
       "      <td>1.000401e+00</td>\n",
       "      <td>1.000401e+00</td>\n",
       "      <td>0.487191</td>\n",
       "    </tr>\n",
       "    <tr>\n",
       "      <th>min</th>\n",
       "      <td>-1.628773e+00</td>\n",
       "      <td>-1.532490e+00</td>\n",
       "      <td>-2.276657e+00</td>\n",
       "      <td>-1.759773e+00</td>\n",
       "      <td>-1.640724e+00</td>\n",
       "      <td>-7.066822e-01</td>\n",
       "      <td>-5.560794e-01</td>\n",
       "      <td>-4.927333e-01</td>\n",
       "      <td>0.000000</td>\n",
       "    </tr>\n",
       "    <tr>\n",
       "      <th>25%</th>\n",
       "      <td>-6.013299e-01</td>\n",
       "      <td>-1.532490e+00</td>\n",
       "      <td>4.392405e-01</td>\n",
       "      <td>-9.277917e-01</td>\n",
       "      <td>-5.053976e-01</td>\n",
       "      <td>-7.066822e-01</td>\n",
       "      <td>-5.560794e-01</td>\n",
       "      <td>-4.927333e-01</td>\n",
       "      <td>0.000000</td>\n",
       "    </tr>\n",
       "    <tr>\n",
       "      <th>50%</th>\n",
       "      <td>-2.588488e-01</td>\n",
       "      <td>6.525328e-01</td>\n",
       "      <td>4.392405e-01</td>\n",
       "      <td>-9.581001e-02</td>\n",
       "      <td>6.226572e-02</td>\n",
       "      <td>-7.066822e-01</td>\n",
       "      <td>-5.560794e-01</td>\n",
       "      <td>-4.927333e-01</td>\n",
       "      <td>0.000000</td>\n",
       "    </tr>\n",
       "    <tr>\n",
       "      <th>75%</th>\n",
       "      <td>7.685945e-01</td>\n",
       "      <td>6.525328e-01</td>\n",
       "      <td>4.392405e-01</td>\n",
       "      <td>7.361717e-01</td>\n",
       "      <td>6.299291e-01</td>\n",
       "      <td>1.415063e+00</td>\n",
       "      <td>-5.560794e-01</td>\n",
       "      <td>-4.927333e-01</td>\n",
       "      <td>1.000000</td>\n",
       "    </tr>\n",
       "    <tr>\n",
       "      <th>max</th>\n",
       "      <td>1.796038e+00</td>\n",
       "      <td>6.525328e-01</td>\n",
       "      <td>4.392405e-01</td>\n",
       "      <td>2.400135e+00</td>\n",
       "      <td>2.332919e+00</td>\n",
       "      <td>1.415063e+00</td>\n",
       "      <td>1.798304e+00</td>\n",
       "      <td>2.029496e+00</td>\n",
       "      <td>1.000000</td>\n",
       "    </tr>\n",
       "  </tbody>\n",
       "</table>\n",
       "</div>"
      ],
      "text/plain": [
       "                Age  Employment Type  GraduateOrNot  AnnualIncome  \\\n",
       "count  1.249000e+03     1.249000e+03   1.249000e+03  1.249000e+03   \n",
       "mean   1.850668e-16     2.522668e-16   1.982224e-17  1.811112e-17   \n",
       "std    1.000401e+00     1.000401e+00   1.000401e+00  1.000401e+00   \n",
       "min   -1.628773e+00    -1.532490e+00  -2.276657e+00 -1.759773e+00   \n",
       "25%   -6.013299e-01    -1.532490e+00   4.392405e-01 -9.277917e-01   \n",
       "50%   -2.588488e-01     6.525328e-01   4.392405e-01 -9.581001e-02   \n",
       "75%    7.685945e-01     6.525328e-01   4.392405e-01  7.361717e-01   \n",
       "max    1.796038e+00     6.525328e-01   4.392405e-01  2.400135e+00   \n",
       "\n",
       "       FamilyMembers  ChronicDiseases  FrequentFlyer  EverTravelledAbroad  \\\n",
       "count   1.249000e+03     1.249000e+03   1.249000e+03         1.249000e+03   \n",
       "mean   -9.697785e-17    -6.033782e-16  -2.092446e-16         1.088001e-16   \n",
       "std     1.000401e+00     1.000401e+00   1.000401e+00         1.000401e+00   \n",
       "min    -1.640724e+00    -7.066822e-01  -5.560794e-01        -4.927333e-01   \n",
       "25%    -5.053976e-01    -7.066822e-01  -5.560794e-01        -4.927333e-01   \n",
       "50%     6.226572e-02    -7.066822e-01  -5.560794e-01        -4.927333e-01   \n",
       "75%     6.299291e-01     1.415063e+00  -5.560794e-01        -4.927333e-01   \n",
       "max     2.332919e+00     1.415063e+00   1.798304e+00         2.029496e+00   \n",
       "\n",
       "       TravelInsurance  \n",
       "count      1249.000000  \n",
       "mean          0.386709  \n",
       "std           0.487191  \n",
       "min           0.000000  \n",
       "25%           0.000000  \n",
       "50%           0.000000  \n",
       "75%           1.000000  \n",
       "max           1.000000  "
      ]
     },
     "execution_count": 62,
     "metadata": {},
     "output_type": "execute_result"
    }
   ],
   "source": [
    "df.describe()"
   ]
  },
  {
   "cell_type": "code",
   "execution_count": 63,
   "id": "cc4ac008-65f0-4a1f-a2d7-411f12b51dc0",
   "metadata": {},
   "outputs": [
    {
     "data": {
      "text/plain": [
       "array([0, 1], dtype=int64)"
      ]
     },
     "execution_count": 63,
     "metadata": {},
     "output_type": "execute_result"
    }
   ],
   "source": [
    "df['TravelInsurance'].unique()"
   ]
  },
  {
   "cell_type": "markdown",
   "id": "e4dcfebd-53b1-49ed-89f3-0dd9847e742f",
   "metadata": {},
   "source": [
    "### Tambahan"
   ]
  },
  {
   "cell_type": "code",
   "execution_count": 86,
   "id": "12f2c725-2059-4a4c-b098-1b1e37e655fd",
   "metadata": {},
   "outputs": [],
   "source": [
    "#log income\n",
    "df['log_AnnualIncome'] = np.log(df['AnnualIncome'])\n",
    "#Normalisasi Annual Income\n",
    "df['log_AnnualIncomes_norm'] = MinMaxScaler().fit_transform(df['log_AnnualIncome'].values.reshape(len(df), 1))\n",
    "#Standarisasi Annual Income\n",
    "df['log_AnnualIncomes_std'] = StandardScaler().fit_transform(df['log_AnnualIncome'].values.reshape(len(df), 1))"
   ]
  },
  {
   "cell_type": "code",
   "execution_count": 87,
   "id": "700310f9-b7d1-4717-a639-fb4a9e995c9e",
   "metadata": {},
   "outputs": [],
   "source": [
    "#Age\n",
    "#Standarisasi\n",
    "df['Age_std'] = StandardScaler().fit_transform(df['Age'].values.reshape(len(df), 1))\n",
    "#normalisasi\n",
    "df['Age_norm'] = MinMaxScaler().fit_transform(df['Age'].values.reshape(len(df), 1))"
   ]
  },
  {
   "cell_type": "code",
   "execution_count": 88,
   "id": "f384206b-f1bb-44a0-bb81-da0ab7472f0c",
   "metadata": {},
   "outputs": [],
   "source": [
    "#FamilyMembers\n",
    "#Standardisasi\n",
    "df['FamilyMembers_std'] = StandardScaler().fit_transform(df['FamilyMembers'].values.reshape(len(df), 1))\n",
    "#Normalisasi\n",
    "df['FamilyMembers_norm'] = MinMaxScaler().fit_transform(df['FamilyMembers'].values.reshape(len(df), 1))"
   ]
  },
  {
   "cell_type": "markdown",
   "id": "698579ae-c300-4579-ab61-186078e41f41",
   "metadata": {},
   "source": [
    "## Feature encoding"
   ]
  },
  {
   "cell_type": "code",
   "execution_count": 64,
   "id": "08cf5a22-dc80-4ee0-85b3-b6fc2ee54f04",
   "metadata": {},
   "outputs": [
    {
     "data": {
      "text/plain": [
       "['Employment Type', 'GraduateOrNot', 'FrequentFlyer', 'EverTravelledAbroad']"
      ]
     },
     "execution_count": 64,
     "metadata": {},
     "output_type": "execute_result"
    }
   ],
   "source": [
    "cats"
   ]
  },
  {
   "cell_type": "code",
   "execution_count": 66,
   "id": "c05f0ea0-dd60-4d38-8751-0a4a80b53eb5",
   "metadata": {},
   "outputs": [
    {
     "data": {
      "text/html": [
       "<div>\n",
       "<style scoped>\n",
       "    .dataframe tbody tr th:only-of-type {\n",
       "        vertical-align: middle;\n",
       "    }\n",
       "\n",
       "    .dataframe tbody tr th {\n",
       "        vertical-align: top;\n",
       "    }\n",
       "\n",
       "    .dataframe thead th {\n",
       "        text-align: right;\n",
       "    }\n",
       "</style>\n",
       "<table border=\"1\" class=\"dataframe\">\n",
       "  <thead>\n",
       "    <tr style=\"text-align: right;\">\n",
       "      <th></th>\n",
       "      <th>Age</th>\n",
       "      <th>Employment Type</th>\n",
       "      <th>GraduateOrNot</th>\n",
       "      <th>AnnualIncome</th>\n",
       "      <th>FamilyMembers</th>\n",
       "      <th>ChronicDiseases</th>\n",
       "      <th>FrequentFlyer</th>\n",
       "      <th>EverTravelledAbroad</th>\n",
       "      <th>TravelInsurance</th>\n",
       "    </tr>\n",
       "  </thead>\n",
       "  <tbody>\n",
       "    <tr>\n",
       "      <th>count</th>\n",
       "      <td>1.249000e+03</td>\n",
       "      <td>1.249000e+03</td>\n",
       "      <td>1.249000e+03</td>\n",
       "      <td>1.249000e+03</td>\n",
       "      <td>1.249000e+03</td>\n",
       "      <td>1.249000e+03</td>\n",
       "      <td>1.249000e+03</td>\n",
       "      <td>1.249000e+03</td>\n",
       "      <td>1249.000000</td>\n",
       "    </tr>\n",
       "    <tr>\n",
       "      <th>mean</th>\n",
       "      <td>1.850668e-16</td>\n",
       "      <td>2.522668e-16</td>\n",
       "      <td>1.982224e-17</td>\n",
       "      <td>1.811112e-17</td>\n",
       "      <td>-9.697785e-17</td>\n",
       "      <td>-6.033782e-16</td>\n",
       "      <td>-2.092446e-16</td>\n",
       "      <td>1.088001e-16</td>\n",
       "      <td>0.386709</td>\n",
       "    </tr>\n",
       "    <tr>\n",
       "      <th>std</th>\n",
       "      <td>1.000401e+00</td>\n",
       "      <td>1.000401e+00</td>\n",
       "      <td>1.000401e+00</td>\n",
       "      <td>1.000401e+00</td>\n",
       "      <td>1.000401e+00</td>\n",
       "      <td>1.000401e+00</td>\n",
       "      <td>1.000401e+00</td>\n",
       "      <td>1.000401e+00</td>\n",
       "      <td>0.487191</td>\n",
       "    </tr>\n",
       "    <tr>\n",
       "      <th>min</th>\n",
       "      <td>-1.628773e+00</td>\n",
       "      <td>-1.532490e+00</td>\n",
       "      <td>-2.276657e+00</td>\n",
       "      <td>-1.759773e+00</td>\n",
       "      <td>-1.640724e+00</td>\n",
       "      <td>-7.066822e-01</td>\n",
       "      <td>-5.560794e-01</td>\n",
       "      <td>-4.927333e-01</td>\n",
       "      <td>0.000000</td>\n",
       "    </tr>\n",
       "    <tr>\n",
       "      <th>25%</th>\n",
       "      <td>-6.013299e-01</td>\n",
       "      <td>-1.532490e+00</td>\n",
       "      <td>4.392405e-01</td>\n",
       "      <td>-9.277917e-01</td>\n",
       "      <td>-5.053976e-01</td>\n",
       "      <td>-7.066822e-01</td>\n",
       "      <td>-5.560794e-01</td>\n",
       "      <td>-4.927333e-01</td>\n",
       "      <td>0.000000</td>\n",
       "    </tr>\n",
       "    <tr>\n",
       "      <th>50%</th>\n",
       "      <td>-2.588488e-01</td>\n",
       "      <td>6.525328e-01</td>\n",
       "      <td>4.392405e-01</td>\n",
       "      <td>-9.581001e-02</td>\n",
       "      <td>6.226572e-02</td>\n",
       "      <td>-7.066822e-01</td>\n",
       "      <td>-5.560794e-01</td>\n",
       "      <td>-4.927333e-01</td>\n",
       "      <td>0.000000</td>\n",
       "    </tr>\n",
       "    <tr>\n",
       "      <th>75%</th>\n",
       "      <td>7.685945e-01</td>\n",
       "      <td>6.525328e-01</td>\n",
       "      <td>4.392405e-01</td>\n",
       "      <td>7.361717e-01</td>\n",
       "      <td>6.299291e-01</td>\n",
       "      <td>1.415063e+00</td>\n",
       "      <td>-5.560794e-01</td>\n",
       "      <td>-4.927333e-01</td>\n",
       "      <td>1.000000</td>\n",
       "    </tr>\n",
       "    <tr>\n",
       "      <th>max</th>\n",
       "      <td>1.796038e+00</td>\n",
       "      <td>6.525328e-01</td>\n",
       "      <td>4.392405e-01</td>\n",
       "      <td>2.400135e+00</td>\n",
       "      <td>2.332919e+00</td>\n",
       "      <td>1.415063e+00</td>\n",
       "      <td>1.798304e+00</td>\n",
       "      <td>2.029496e+00</td>\n",
       "      <td>1.000000</td>\n",
       "    </tr>\n",
       "  </tbody>\n",
       "</table>\n",
       "</div>"
      ],
      "text/plain": [
       "                Age  Employment Type  GraduateOrNot  AnnualIncome  \\\n",
       "count  1.249000e+03     1.249000e+03   1.249000e+03  1.249000e+03   \n",
       "mean   1.850668e-16     2.522668e-16   1.982224e-17  1.811112e-17   \n",
       "std    1.000401e+00     1.000401e+00   1.000401e+00  1.000401e+00   \n",
       "min   -1.628773e+00    -1.532490e+00  -2.276657e+00 -1.759773e+00   \n",
       "25%   -6.013299e-01    -1.532490e+00   4.392405e-01 -9.277917e-01   \n",
       "50%   -2.588488e-01     6.525328e-01   4.392405e-01 -9.581001e-02   \n",
       "75%    7.685945e-01     6.525328e-01   4.392405e-01  7.361717e-01   \n",
       "max    1.796038e+00     6.525328e-01   4.392405e-01  2.400135e+00   \n",
       "\n",
       "       FamilyMembers  ChronicDiseases  FrequentFlyer  EverTravelledAbroad  \\\n",
       "count   1.249000e+03     1.249000e+03   1.249000e+03         1.249000e+03   \n",
       "mean   -9.697785e-17    -6.033782e-16  -2.092446e-16         1.088001e-16   \n",
       "std     1.000401e+00     1.000401e+00   1.000401e+00         1.000401e+00   \n",
       "min    -1.640724e+00    -7.066822e-01  -5.560794e-01        -4.927333e-01   \n",
       "25%    -5.053976e-01    -7.066822e-01  -5.560794e-01        -4.927333e-01   \n",
       "50%     6.226572e-02    -7.066822e-01  -5.560794e-01        -4.927333e-01   \n",
       "75%     6.299291e-01     1.415063e+00  -5.560794e-01        -4.927333e-01   \n",
       "max     2.332919e+00     1.415063e+00   1.798304e+00         2.029496e+00   \n",
       "\n",
       "       TravelInsurance  \n",
       "count      1249.000000  \n",
       "mean          0.386709  \n",
       "std           0.487191  \n",
       "min           0.000000  \n",
       "25%           0.000000  \n",
       "50%           0.000000  \n",
       "75%           1.000000  \n",
       "max           1.000000  "
      ]
     },
     "execution_count": 66,
     "metadata": {},
     "output_type": "execute_result"
    }
   ],
   "source": [
    "df.describe()"
   ]
  },
  {
   "cell_type": "code",
   "execution_count": 65,
   "id": "45309d99-a2eb-4bdb-89d3-8675f847fe35",
   "metadata": {},
   "outputs": [
    {
     "name": "stdout",
     "output_type": "stream",
     "text": [
      "Value count kolom Employment Type:\n",
      " 0.652533    876\n",
      "-1.532490    373\n",
      "Name: Employment Type, dtype: int64\n",
      "\n",
      "Value count kolom GraduateOrNot:\n",
      " 0.439240    1047\n",
      "-2.276657     202\n",
      "Name: GraduateOrNot, dtype: int64\n",
      "\n",
      "Value count kolom FrequentFlyer:\n",
      "-0.556079    954\n",
      " 1.798304    295\n",
      "Name: FrequentFlyer, dtype: int64\n",
      "\n",
      "Value count kolom EverTravelledAbroad:\n",
      "-0.492733    1005\n",
      " 2.029496     244\n",
      "Name: EverTravelledAbroad, dtype: int64\n",
      "\n"
     ]
    }
   ],
   "source": [
    "for col in cats:\n",
    "    print(f'''Value count kolom {col}:''')\n",
    "    print(df[col].value_counts())\n",
    "    print()"
   ]
  },
  {
   "cell_type": "markdown",
   "id": "6cc9974c-5170-4fdc-9b18-6c92879c3099",
   "metadata": {},
   "source": [
    "Setiap kolom kategorical dilakukan label encoding karena hanya memiliki 2 atribut di setiap kolomnya. Untuk employment type diberikan kode 0 (Government) dan 1 (Private/Self-Employed) dan yang lain diberikan kode 1 (yes) dan 0 (no)"
   ]
  },
  {
   "cell_type": "markdown",
   "id": "fa46e87f-3137-48f9-b1ec-0cb18258e566",
   "metadata": {},
   "source": [
    "## Handle class imbalance"
   ]
  },
  {
   "cell_type": "code",
   "execution_count": 67,
   "id": "0ef4e7e0-443a-4e52-b9a2-5fcaca834dae",
   "metadata": {},
   "outputs": [
    {
     "data": {
      "text/plain": [
       "0    766\n",
       "1    483\n",
       "Name: TravelInsurance, dtype: int64"
      ]
     },
     "execution_count": 67,
     "metadata": {},
     "output_type": "execute_result"
    }
   ],
   "source": [
    "df['TravelInsurance'].value_counts()"
   ]
  },
  {
   "cell_type": "code",
   "execution_count": 68,
   "id": "00378222-b16d-4524-b530-754c713bd03b",
   "metadata": {},
   "outputs": [
    {
     "name": "stdout",
     "output_type": "stream",
     "text": [
      "(1249, 8)\n",
      "(1249,)\n"
     ]
    },
    {
     "data": {
      "text/plain": [
       "array([0, 0, 1, ..., 1, 0, 1], dtype=int64)"
      ]
     },
     "execution_count": 68,
     "metadata": {},
     "output_type": "execute_result"
    }
   ],
   "source": [
    "# pemisahan features vs target\n",
    "X = df[[col for col in df.columns if (str(df[col].dtype) != 'object') and col not in ['TravelInsurance']]]\n",
    "y = df['TravelInsurance'].values\n",
    "print(X.shape)\n",
    "print(y.shape)\n",
    "y"
   ]
  },
  {
   "cell_type": "code",
   "execution_count": 69,
   "id": "4fc39c3d-5c33-4beb-8010-04efec85a3e6",
   "metadata": {},
   "outputs": [
    {
     "name": "stderr",
     "output_type": "stream",
     "text": [
      "C:\\Users\\LENOVO\\Documents\\Anaconda3\\lib\\site-packages\\imblearn\\utils\\_validation.py:586: FutureWarning: Pass sampling_strategy=0.8 as keyword args. From version 0.9 passing these as positional arguments will result in an error\n",
      "  warnings.warn(\n",
      "C:\\Users\\LENOVO\\Documents\\Anaconda3\\lib\\site-packages\\imblearn\\utils\\_validation.py:586: FutureWarning: Pass sampling_strategy=0.8 as keyword args. From version 0.9 passing these as positional arguments will result in an error\n",
      "  warnings.warn(\n",
      "C:\\Users\\LENOVO\\Documents\\Anaconda3\\lib\\site-packages\\imblearn\\utils\\_validation.py:586: FutureWarning: Pass sampling_strategy=0.8 as keyword args. From version 0.9 passing these as positional arguments will result in an error\n",
      "  warnings.warn(\n"
     ]
    }
   ],
   "source": [
    "from imblearn import under_sampling, over_sampling\n",
    "X_under, y_under = under_sampling.RandomUnderSampler(0.8).fit_resample(X, y)\n",
    "X_over, y_over = over_sampling.RandomOverSampler(0.8).fit_resample(X, y)\n",
    "X_over_SMOTE, y_over_SMOTE = over_sampling.SMOTE(0.8).fit_resample(X, y)"
   ]
  },
  {
   "cell_type": "code",
   "execution_count": 70,
   "id": "75c466fa-da1f-4eb6-bab0-5b81af8f4d2c",
   "metadata": {},
   "outputs": [
    {
     "name": "stdout",
     "output_type": "stream",
     "text": [
      "Original\n",
      "0    766\n",
      "1    483\n",
      "dtype: int64\n",
      "UNDERSAMPLING\n",
      "0    603\n",
      "1    483\n",
      "dtype: int64\n",
      "OVERSAMPLING\n",
      "0    766\n",
      "1    612\n",
      "dtype: int64\n",
      "SMOTE\n",
      "0    766\n",
      "1    612\n",
      "dtype: int64\n"
     ]
    }
   ],
   "source": [
    "print('Original')\n",
    "print(pd.Series(y).value_counts())\n",
    "print('UNDERSAMPLING')\n",
    "print(pd.Series(y_under).value_counts())\n",
    "print('OVERSAMPLING')\n",
    "print(pd.Series(y_over).value_counts())\n",
    "print('SMOTE')\n",
    "print(pd.Series(y_over_SMOTE).value_counts())"
   ]
  },
  {
   "cell_type": "markdown",
   "id": "8225ce62-6263-48e6-a48c-29324c6b1d67",
   "metadata": {},
   "source": [
    "# Feature Engineering"
   ]
  },
  {
   "cell_type": "markdown",
   "id": "8ad7c763-1217-4b1b-893c-9b9de7d47ca9",
   "metadata": {},
   "source": [
    "## Feature selection (membuang feature yang kurang relevan atau redundan)"
   ]
  },
  {
   "cell_type": "code",
   "execution_count": 71,
   "id": "e8fb3e05-ff5c-42d6-882e-d941266da5da",
   "metadata": {},
   "outputs": [
    {
     "data": {
      "text/plain": [
       "Age                    0.067536\n",
       "Employment Type        0.076309\n",
       "GraduateOrNot          0.031770\n",
       "AnnualIncome           0.293913\n",
       "FamilyMembers          0.084907\n",
       "ChronicDiseases        0.010015\n",
       "FrequentFlyer          0.127426\n",
       "EverTravelledAbroad    0.301224\n",
       "TravelInsurance        1.000000\n",
       "Name: TravelInsurance, dtype: float64"
      ]
     },
     "execution_count": 71,
     "metadata": {},
     "output_type": "execute_result"
    }
   ],
   "source": [
    "df_select = df.corr(method='pearson')\n",
    "df_select['TravelInsurance'].apply(lambda x:abs(x))"
   ]
  },
  {
   "cell_type": "code",
   "execution_count": 74,
   "id": "d061db6c-93fb-471f-97fc-f9da14c4c056",
   "metadata": {},
   "outputs": [],
   "source": [
    "df_backup = df"
   ]
  },
  {
   "cell_type": "code",
   "execution_count": 75,
   "id": "0bdd4c42-bfa0-4e22-955d-340043be7982",
   "metadata": {},
   "outputs": [
    {
     "data": {
      "text/html": [
       "<div>\n",
       "<style scoped>\n",
       "    .dataframe tbody tr th:only-of-type {\n",
       "        vertical-align: middle;\n",
       "    }\n",
       "\n",
       "    .dataframe tbody tr th {\n",
       "        vertical-align: top;\n",
       "    }\n",
       "\n",
       "    .dataframe thead th {\n",
       "        text-align: right;\n",
       "    }\n",
       "</style>\n",
       "<table border=\"1\" class=\"dataframe\">\n",
       "  <thead>\n",
       "    <tr style=\"text-align: right;\">\n",
       "      <th></th>\n",
       "      <th>Age</th>\n",
       "      <th>Employment Type</th>\n",
       "      <th>GraduateOrNot</th>\n",
       "      <th>AnnualIncome</th>\n",
       "      <th>FamilyMembers</th>\n",
       "      <th>ChronicDiseases</th>\n",
       "      <th>FrequentFlyer</th>\n",
       "      <th>EverTravelledAbroad</th>\n",
       "      <th>TravelInsurance</th>\n",
       "    </tr>\n",
       "  </thead>\n",
       "  <tbody>\n",
       "    <tr>\n",
       "      <th>0</th>\n",
       "      <td>0.426113</td>\n",
       "      <td>-1.532490</td>\n",
       "      <td>0.43924</td>\n",
       "      <td>-1.482446</td>\n",
       "      <td>0.629929</td>\n",
       "      <td>1.415063</td>\n",
       "      <td>-0.556079</td>\n",
       "      <td>-0.492733</td>\n",
       "      <td>0</td>\n",
       "    </tr>\n",
       "    <tr>\n",
       "      <th>1</th>\n",
       "      <td>0.426113</td>\n",
       "      <td>0.652533</td>\n",
       "      <td>0.43924</td>\n",
       "      <td>0.874835</td>\n",
       "      <td>1.197592</td>\n",
       "      <td>-0.706682</td>\n",
       "      <td>-0.556079</td>\n",
       "      <td>-0.492733</td>\n",
       "      <td>0</td>\n",
       "    </tr>\n",
       "    <tr>\n",
       "      <th>2</th>\n",
       "      <td>1.453557</td>\n",
       "      <td>0.652533</td>\n",
       "      <td>0.43924</td>\n",
       "      <td>-1.205119</td>\n",
       "      <td>-0.505398</td>\n",
       "      <td>1.415063</td>\n",
       "      <td>-0.556079</td>\n",
       "      <td>-0.492733</td>\n",
       "      <td>1</td>\n",
       "    </tr>\n",
       "    <tr>\n",
       "      <th>3</th>\n",
       "      <td>-0.601330</td>\n",
       "      <td>0.652533</td>\n",
       "      <td>0.43924</td>\n",
       "      <td>-0.650464</td>\n",
       "      <td>-1.073061</td>\n",
       "      <td>1.415063</td>\n",
       "      <td>-0.556079</td>\n",
       "      <td>-0.492733</td>\n",
       "      <td>0</td>\n",
       "    </tr>\n",
       "    <tr>\n",
       "      <th>4</th>\n",
       "      <td>-0.601330</td>\n",
       "      <td>0.652533</td>\n",
       "      <td>0.43924</td>\n",
       "      <td>-0.650464</td>\n",
       "      <td>1.765256</td>\n",
       "      <td>1.415063</td>\n",
       "      <td>1.798304</td>\n",
       "      <td>-0.492733</td>\n",
       "      <td>0</td>\n",
       "    </tr>\n",
       "  </tbody>\n",
       "</table>\n",
       "</div>"
      ],
      "text/plain": [
       "        Age  Employment Type  GraduateOrNot  AnnualIncome  FamilyMembers  \\\n",
       "0  0.426113        -1.532490        0.43924     -1.482446       0.629929   \n",
       "1  0.426113         0.652533        0.43924      0.874835       1.197592   \n",
       "2  1.453557         0.652533        0.43924     -1.205119      -0.505398   \n",
       "3 -0.601330         0.652533        0.43924     -0.650464      -1.073061   \n",
       "4 -0.601330         0.652533        0.43924     -0.650464       1.765256   \n",
       "\n",
       "   ChronicDiseases  FrequentFlyer  EverTravelledAbroad  TravelInsurance  \n",
       "0         1.415063      -0.556079            -0.492733                0  \n",
       "1        -0.706682      -0.556079            -0.492733                0  \n",
       "2         1.415063      -0.556079            -0.492733                1  \n",
       "3         1.415063      -0.556079            -0.492733                0  \n",
       "4         1.415063       1.798304            -0.492733                0  "
      ]
     },
     "execution_count": 75,
     "metadata": {},
     "output_type": "execute_result"
    }
   ],
   "source": [
    "df_backup.head()"
   ]
  },
  {
   "cell_type": "markdown",
   "id": "8ba4cfa4-ea94-4623-8afb-06bea8ff30ae",
   "metadata": {},
   "source": [
    "## Feature extraction (membuat feature baru dari feature yang sudah ada)"
   ]
  },
  {
   "cell_type": "code",
   "execution_count": 76,
   "id": "ddc1c688-9db5-4a61-88d1-d4f23d4a1582",
   "metadata": {},
   "outputs": [],
   "source": [
    "def Income(row):\n",
    "    if row['AnnualIncome'] > 1300000:\n",
    "        return 1\n",
    "    else:\n",
    "        return 0\n",
    "    \n",
    "df_backup['IncomeSegmentation'] = df_backup.apply(Income, axis=1)"
   ]
  },
  {
   "cell_type": "code",
   "execution_count": 77,
   "id": "43066fe3-68ff-4c2b-a33f-af9c40704c60",
   "metadata": {},
   "outputs": [
    {
     "data": {
      "text/html": [
       "<div>\n",
       "<style scoped>\n",
       "    .dataframe tbody tr th:only-of-type {\n",
       "        vertical-align: middle;\n",
       "    }\n",
       "\n",
       "    .dataframe tbody tr th {\n",
       "        vertical-align: top;\n",
       "    }\n",
       "\n",
       "    .dataframe thead th {\n",
       "        text-align: right;\n",
       "    }\n",
       "</style>\n",
       "<table border=\"1\" class=\"dataframe\">\n",
       "  <thead>\n",
       "    <tr style=\"text-align: right;\">\n",
       "      <th></th>\n",
       "      <th>Age</th>\n",
       "      <th>Employment Type</th>\n",
       "      <th>GraduateOrNot</th>\n",
       "      <th>AnnualIncome</th>\n",
       "      <th>FamilyMembers</th>\n",
       "      <th>ChronicDiseases</th>\n",
       "      <th>FrequentFlyer</th>\n",
       "      <th>EverTravelledAbroad</th>\n",
       "      <th>TravelInsurance</th>\n",
       "      <th>IncomeSegmentation</th>\n",
       "    </tr>\n",
       "  </thead>\n",
       "  <tbody>\n",
       "    <tr>\n",
       "      <th>469</th>\n",
       "      <td>-1.628773</td>\n",
       "      <td>0.652533</td>\n",
       "      <td>-2.276657</td>\n",
       "      <td>2.122808</td>\n",
       "      <td>0.062266</td>\n",
       "      <td>-0.706682</td>\n",
       "      <td>1.798304</td>\n",
       "      <td>-0.492733</td>\n",
       "      <td>1</td>\n",
       "      <td>0</td>\n",
       "    </tr>\n",
       "    <tr>\n",
       "      <th>1080</th>\n",
       "      <td>-0.601330</td>\n",
       "      <td>0.652533</td>\n",
       "      <td>0.439240</td>\n",
       "      <td>-0.650464</td>\n",
       "      <td>1.197592</td>\n",
       "      <td>-0.706682</td>\n",
       "      <td>-0.556079</td>\n",
       "      <td>-0.492733</td>\n",
       "      <td>0</td>\n",
       "      <td>0</td>\n",
       "    </tr>\n",
       "    <tr>\n",
       "      <th>356</th>\n",
       "      <td>1.453557</td>\n",
       "      <td>0.652533</td>\n",
       "      <td>0.439240</td>\n",
       "      <td>0.181517</td>\n",
       "      <td>-0.505398</td>\n",
       "      <td>-0.706682</td>\n",
       "      <td>-0.556079</td>\n",
       "      <td>-0.492733</td>\n",
       "      <td>0</td>\n",
       "      <td>0</td>\n",
       "    </tr>\n",
       "    <tr>\n",
       "      <th>100</th>\n",
       "      <td>-0.601330</td>\n",
       "      <td>0.652533</td>\n",
       "      <td>0.439240</td>\n",
       "      <td>1.013499</td>\n",
       "      <td>0.629929</td>\n",
       "      <td>1.415063</td>\n",
       "      <td>-0.556079</td>\n",
       "      <td>-0.492733</td>\n",
       "      <td>1</td>\n",
       "      <td>0</td>\n",
       "    </tr>\n",
       "    <tr>\n",
       "      <th>6</th>\n",
       "      <td>0.426113</td>\n",
       "      <td>-1.532490</td>\n",
       "      <td>0.439240</td>\n",
       "      <td>1.013499</td>\n",
       "      <td>-0.505398</td>\n",
       "      <td>-0.706682</td>\n",
       "      <td>-0.556079</td>\n",
       "      <td>-0.492733</td>\n",
       "      <td>0</td>\n",
       "      <td>0</td>\n",
       "    </tr>\n",
       "  </tbody>\n",
       "</table>\n",
       "</div>"
      ],
      "text/plain": [
       "           Age  Employment Type  GraduateOrNot  AnnualIncome  FamilyMembers  \\\n",
       "469  -1.628773         0.652533      -2.276657      2.122808       0.062266   \n",
       "1080 -0.601330         0.652533       0.439240     -0.650464       1.197592   \n",
       "356   1.453557         0.652533       0.439240      0.181517      -0.505398   \n",
       "100  -0.601330         0.652533       0.439240      1.013499       0.629929   \n",
       "6     0.426113        -1.532490       0.439240      1.013499      -0.505398   \n",
       "\n",
       "      ChronicDiseases  FrequentFlyer  EverTravelledAbroad  TravelInsurance  \\\n",
       "469         -0.706682       1.798304            -0.492733                1   \n",
       "1080        -0.706682      -0.556079            -0.492733                0   \n",
       "356         -0.706682      -0.556079            -0.492733                0   \n",
       "100          1.415063      -0.556079            -0.492733                1   \n",
       "6           -0.706682      -0.556079            -0.492733                0   \n",
       "\n",
       "      IncomeSegmentation  \n",
       "469                    0  \n",
       "1080                   0  \n",
       "356                    0  \n",
       "100                    0  \n",
       "6                      0  "
      ]
     },
     "execution_count": 77,
     "metadata": {},
     "output_type": "execute_result"
    }
   ],
   "source": [
    "df_backup.sample(5)"
   ]
  },
  {
   "cell_type": "code",
   "execution_count": 78,
   "id": "fd26cbb4-b317-4795-9a3b-cc815f01503e",
   "metadata": {},
   "outputs": [],
   "source": [
    "def Income(row):\n",
    "    if (row['AnnualIncome'] > 1300000) and (row['Employment Type'] == 'Private Sector/Self Employed') and (row['EverTravelledAbroad'] == 'Yes') and (row['FrequentFlyer'] == 'Yes'):\n",
    "        return 1\n",
    "    else:\n",
    "        return 0\n",
    "    \n",
    "df_backup['PotentialCustomer'] = df_backup.apply(Income, axis=1)"
   ]
  },
  {
   "cell_type": "code",
   "execution_count": 79,
   "id": "d1a54338-25ec-4c33-b72b-6a2140966b81",
   "metadata": {},
   "outputs": [],
   "source": [
    "def Income(row):\n",
    "  if row['Age'] in list(range(25,27)) or row['Age'] in list(range(33,36)):\n",
    "    return 1\n",
    "  else:\n",
    "    return 0\n",
    "    \n",
    "df_backup['PotentialAge'] = df_backup.apply(Income, axis=1)"
   ]
  },
  {
   "cell_type": "code",
   "execution_count": 80,
   "id": "e599aa0e-bdb3-410a-b427-a9382612ed26",
   "metadata": {},
   "outputs": [],
   "source": [
    "def Income(row):\n",
    "  if row['ChronicDiseases'] == 1 and (row['Age'] > 33):\n",
    "    return 1\n",
    "  else:\n",
    "    return 0\n",
    "    \n",
    "df_backup['PotentialDeath'] = df_backup.apply(Income, axis=1)"
   ]
  },
  {
   "cell_type": "code",
   "execution_count": 82,
   "id": "31f5ddac-f5c3-45e4-aab4-88414b971916",
   "metadata": {
    "tags": []
   },
   "outputs": [
    {
     "data": {
      "text/html": [
       "<div>\n",
       "<style scoped>\n",
       "    .dataframe tbody tr th:only-of-type {\n",
       "        vertical-align: middle;\n",
       "    }\n",
       "\n",
       "    .dataframe tbody tr th {\n",
       "        vertical-align: top;\n",
       "    }\n",
       "\n",
       "    .dataframe thead th {\n",
       "        text-align: right;\n",
       "    }\n",
       "</style>\n",
       "<table border=\"1\" class=\"dataframe\">\n",
       "  <thead>\n",
       "    <tr style=\"text-align: right;\">\n",
       "      <th></th>\n",
       "      <th>Age</th>\n",
       "      <th>Employment Type</th>\n",
       "      <th>GraduateOrNot</th>\n",
       "      <th>AnnualIncome</th>\n",
       "      <th>FamilyMembers</th>\n",
       "      <th>ChronicDiseases</th>\n",
       "      <th>FrequentFlyer</th>\n",
       "      <th>EverTravelledAbroad</th>\n",
       "      <th>TravelInsurance</th>\n",
       "      <th>IncomeSegmentation</th>\n",
       "      <th>PotentialCustomer</th>\n",
       "      <th>PotentialAge</th>\n",
       "      <th>PotentialDeath</th>\n",
       "    </tr>\n",
       "  </thead>\n",
       "  <tbody>\n",
       "    <tr>\n",
       "      <th>0</th>\n",
       "      <td>0.426113</td>\n",
       "      <td>-1.532490</td>\n",
       "      <td>0.43924</td>\n",
       "      <td>-1.482446</td>\n",
       "      <td>0.629929</td>\n",
       "      <td>1.415063</td>\n",
       "      <td>-0.556079</td>\n",
       "      <td>-0.492733</td>\n",
       "      <td>0</td>\n",
       "      <td>0</td>\n",
       "      <td>0</td>\n",
       "      <td>0</td>\n",
       "      <td>0</td>\n",
       "    </tr>\n",
       "    <tr>\n",
       "      <th>1</th>\n",
       "      <td>0.426113</td>\n",
       "      <td>0.652533</td>\n",
       "      <td>0.43924</td>\n",
       "      <td>0.874835</td>\n",
       "      <td>1.197592</td>\n",
       "      <td>-0.706682</td>\n",
       "      <td>-0.556079</td>\n",
       "      <td>-0.492733</td>\n",
       "      <td>0</td>\n",
       "      <td>0</td>\n",
       "      <td>0</td>\n",
       "      <td>0</td>\n",
       "      <td>0</td>\n",
       "    </tr>\n",
       "    <tr>\n",
       "      <th>2</th>\n",
       "      <td>1.453557</td>\n",
       "      <td>0.652533</td>\n",
       "      <td>0.43924</td>\n",
       "      <td>-1.205119</td>\n",
       "      <td>-0.505398</td>\n",
       "      <td>1.415063</td>\n",
       "      <td>-0.556079</td>\n",
       "      <td>-0.492733</td>\n",
       "      <td>1</td>\n",
       "      <td>0</td>\n",
       "      <td>0</td>\n",
       "      <td>0</td>\n",
       "      <td>0</td>\n",
       "    </tr>\n",
       "    <tr>\n",
       "      <th>3</th>\n",
       "      <td>-0.601330</td>\n",
       "      <td>0.652533</td>\n",
       "      <td>0.43924</td>\n",
       "      <td>-0.650464</td>\n",
       "      <td>-1.073061</td>\n",
       "      <td>1.415063</td>\n",
       "      <td>-0.556079</td>\n",
       "      <td>-0.492733</td>\n",
       "      <td>0</td>\n",
       "      <td>0</td>\n",
       "      <td>0</td>\n",
       "      <td>0</td>\n",
       "      <td>0</td>\n",
       "    </tr>\n",
       "    <tr>\n",
       "      <th>4</th>\n",
       "      <td>-0.601330</td>\n",
       "      <td>0.652533</td>\n",
       "      <td>0.43924</td>\n",
       "      <td>-0.650464</td>\n",
       "      <td>1.765256</td>\n",
       "      <td>1.415063</td>\n",
       "      <td>1.798304</td>\n",
       "      <td>-0.492733</td>\n",
       "      <td>0</td>\n",
       "      <td>0</td>\n",
       "      <td>0</td>\n",
       "      <td>0</td>\n",
       "      <td>0</td>\n",
       "    </tr>\n",
       "  </tbody>\n",
       "</table>\n",
       "</div>"
      ],
      "text/plain": [
       "        Age  Employment Type  GraduateOrNot  AnnualIncome  FamilyMembers  \\\n",
       "0  0.426113        -1.532490        0.43924     -1.482446       0.629929   \n",
       "1  0.426113         0.652533        0.43924      0.874835       1.197592   \n",
       "2  1.453557         0.652533        0.43924     -1.205119      -0.505398   \n",
       "3 -0.601330         0.652533        0.43924     -0.650464      -1.073061   \n",
       "4 -0.601330         0.652533        0.43924     -0.650464       1.765256   \n",
       "\n",
       "   ChronicDiseases  FrequentFlyer  EverTravelledAbroad  TravelInsurance  \\\n",
       "0         1.415063      -0.556079            -0.492733                0   \n",
       "1        -0.706682      -0.556079            -0.492733                0   \n",
       "2         1.415063      -0.556079            -0.492733                1   \n",
       "3         1.415063      -0.556079            -0.492733                0   \n",
       "4         1.415063       1.798304            -0.492733                0   \n",
       "\n",
       "   IncomeSegmentation  PotentialCustomer  PotentialAge  PotentialDeath  \n",
       "0                   0                  0             0               0  \n",
       "1                   0                  0             0               0  \n",
       "2                   0                  0             0               0  \n",
       "3                   0                  0             0               0  \n",
       "4                   0                  0             0               0  "
      ]
     },
     "execution_count": 82,
     "metadata": {},
     "output_type": "execute_result"
    }
   ],
   "source": [
    "df_backup.head()"
   ]
  }
 ],
 "metadata": {
  "kernelspec": {
   "display_name": "Python 3 (ipykernel)",
   "language": "python",
   "name": "python3"
  },
  "language_info": {
   "codemirror_mode": {
    "name": "ipython",
    "version": 3
   },
   "file_extension": ".py",
   "mimetype": "text/x-python",
   "name": "python",
   "nbconvert_exporter": "python",
   "pygments_lexer": "ipython3",
   "version": "3.9.7"
  }
 },
 "nbformat": 4,
 "nbformat_minor": 5
}
